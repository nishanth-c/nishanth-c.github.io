{
 "cells": [
  {
   "cell_type": "markdown",
   "metadata": {
    "colab_type": "text",
    "id": "c_iuZBG99PuE"
   },
   "source": [
    "#Data Loading\n"
   ]
  },
  {
   "cell_type": "code",
   "execution_count": 0,
   "metadata": {
    "colab": {
     "base_uri": "https://localhost:8080/",
     "height": 69
    },
    "colab_type": "code",
    "id": "RUmCoF9vF0q-",
    "outputId": "c7bfba27-f51d-41dd-b305-ee6fa5b90b3b"
   },
   "outputs": [
    {
     "name": "stdout",
     "output_type": "stream",
     "text": [
      "[nltk_data] Downloading package stopwords to /root/nltk_data...\n",
      "[nltk_data]   Package stopwords is already up-to-date!\n"
     ]
    },
    {
     "data": {
      "text/plain": [
       "True"
      ]
     },
     "execution_count": 74,
     "metadata": {
      "tags": []
     },
     "output_type": "execute_result"
    }
   ],
   "source": [
    "import nltk\n",
    "nltk.download('stopwords')"
   ]
  },
  {
   "cell_type": "code",
   "execution_count": 0,
   "metadata": {
    "colab": {},
    "colab_type": "code",
    "id": "vrz7UdXqwNO5"
   },
   "outputs": [],
   "source": [
    "from sklearn.metrics import accuracy_score"
   ]
  },
  {
   "cell_type": "code",
   "execution_count": 0,
   "metadata": {
    "colab": {},
    "colab_type": "code",
    "id": "9t7Si3n9tKJM"
   },
   "outputs": [],
   "source": [
    "import pandas as pd\n",
    "import numpy as np\n",
    "from sklearn.model_selection import train_test_split as tt\n",
    "from sklearn.feature_extraction.text import CountVectorizer\n",
    "from sklearn.feature_extraction.text import TfidfTransformer\n",
    "from sklearn.naive_bayes import BernoulliNB\n"
   ]
  },
  {
   "cell_type": "code",
   "execution_count": 0,
   "metadata": {
    "colab": {},
    "colab_type": "code",
    "id": "sT3Ka93J8hTd"
   },
   "outputs": [],
   "source": [
    "from sklearn.naive_bayes import MultinomialNB\n",
    "from sklearn.svm import LinearSVC\n",
    "from sklearn.linear_model import LogisticRegression\n",
    "from sklearn.pipeline import Pipeline\n",
    "from sklearn.feature_extraction.text import TfidfVectorizer\n",
    "from nltk.corpus import stopwords\n",
    "from sklearn.multiclass import OneVsRestClassifier"
   ]
  },
  {
   "cell_type": "code",
   "execution_count": 0,
   "metadata": {
    "colab": {},
    "colab_type": "code",
    "id": "sizABzdrFpXS"
   },
   "outputs": [],
   "source": [
    "stop_words = set(stopwords.words('english'))"
   ]
  },
  {
   "cell_type": "code",
   "execution_count": 0,
   "metadata": {
    "colab": {},
    "colab_type": "code",
    "id": "KlzdcYbge3t_"
   },
   "outputs": [],
   "source": [
    "from collections import OrderedDict "
   ]
  },
  {
   "cell_type": "code",
   "execution_count": 0,
   "metadata": {
    "colab": {},
    "colab_type": "code",
    "id": "YShRR_1BuBHJ"
   },
   "outputs": [],
   "source": [
    "df = pd.read_csv('Training_Data.csv',encoding = \"ISO-8859-1\")\n"
   ]
  },
  {
   "cell_type": "code",
   "execution_count": 0,
   "metadata": {
    "colab": {
     "base_uri": "https://localhost:8080/",
     "height": 72
    },
    "colab_type": "code",
    "id": "5vQ1e6BSu812",
    "outputId": "258aac5d-3c63-4eae-b573-25f9c4e494cb"
   },
   "outputs": [
    {
     "name": "stderr",
     "output_type": "stream",
     "text": [
      "/usr/local/lib/python3.6/dist-packages/ipykernel_launcher.py:1: UserWarning: Boolean Series key will be reindexed to match DataFrame index.\n",
      "  \"\"\"Entry point for launching an IPython kernel.\n"
     ]
    }
   ],
   "source": [
    "test = df[df['Growth']== 0][df['Inflation']==0][df['Cad']==0][df['Money']==0][df['Fiscal']==0][df['Other']==0]"
   ]
  },
  {
   "cell_type": "code",
   "execution_count": 0,
   "metadata": {
    "colab": {
     "base_uri": "https://localhost:8080/",
     "height": 300
    },
    "colab_type": "code",
    "id": "Gx78mUZv1k1N",
    "outputId": "eef5a645-8707-4434-b504-f74531f68d64"
   },
   "outputs": [
    {
     "data": {
      "text/html": [
       "<div>\n",
       "<style scoped>\n",
       "    .dataframe tbody tr th:only-of-type {\n",
       "        vertical-align: middle;\n",
       "    }\n",
       "\n",
       "    .dataframe tbody tr th {\n",
       "        vertical-align: top;\n",
       "    }\n",
       "\n",
       "    .dataframe thead th {\n",
       "        text-align: right;\n",
       "    }\n",
       "</style>\n",
       "<table border=\"1\" class=\"dataframe\">\n",
       "  <thead>\n",
       "    <tr style=\"text-align: right;\">\n",
       "      <th></th>\n",
       "      <th>Unnamed: 0</th>\n",
       "      <th>Growth</th>\n",
       "      <th>Inflation</th>\n",
       "      <th>Cad</th>\n",
       "      <th>Money</th>\n",
       "      <th>Fiscal</th>\n",
       "      <th>Other</th>\n",
       "    </tr>\n",
       "  </thead>\n",
       "  <tbody>\n",
       "    <tr>\n",
       "      <th>count</th>\n",
       "      <td>189494.000000</td>\n",
       "      <td>189494.0</td>\n",
       "      <td>189494.0</td>\n",
       "      <td>189494.0</td>\n",
       "      <td>189494.0</td>\n",
       "      <td>189494.0</td>\n",
       "      <td>189494.0</td>\n",
       "    </tr>\n",
       "    <tr>\n",
       "      <th>mean</th>\n",
       "      <td>109299.531917</td>\n",
       "      <td>0.0</td>\n",
       "      <td>0.0</td>\n",
       "      <td>0.0</td>\n",
       "      <td>0.0</td>\n",
       "      <td>0.0</td>\n",
       "      <td>0.0</td>\n",
       "    </tr>\n",
       "    <tr>\n",
       "      <th>std</th>\n",
       "      <td>63907.299044</td>\n",
       "      <td>0.0</td>\n",
       "      <td>0.0</td>\n",
       "      <td>0.0</td>\n",
       "      <td>0.0</td>\n",
       "      <td>0.0</td>\n",
       "      <td>0.0</td>\n",
       "    </tr>\n",
       "    <tr>\n",
       "      <th>min</th>\n",
       "      <td>0.000000</td>\n",
       "      <td>0.0</td>\n",
       "      <td>0.0</td>\n",
       "      <td>0.0</td>\n",
       "      <td>0.0</td>\n",
       "      <td>0.0</td>\n",
       "      <td>0.0</td>\n",
       "    </tr>\n",
       "    <tr>\n",
       "      <th>25%</th>\n",
       "      <td>53950.250000</td>\n",
       "      <td>0.0</td>\n",
       "      <td>0.0</td>\n",
       "      <td>0.0</td>\n",
       "      <td>0.0</td>\n",
       "      <td>0.0</td>\n",
       "      <td>0.0</td>\n",
       "    </tr>\n",
       "    <tr>\n",
       "      <th>50%</th>\n",
       "      <td>107822.500000</td>\n",
       "      <td>0.0</td>\n",
       "      <td>0.0</td>\n",
       "      <td>0.0</td>\n",
       "      <td>0.0</td>\n",
       "      <td>0.0</td>\n",
       "      <td>0.0</td>\n",
       "    </tr>\n",
       "    <tr>\n",
       "      <th>75%</th>\n",
       "      <td>164733.750000</td>\n",
       "      <td>0.0</td>\n",
       "      <td>0.0</td>\n",
       "      <td>0.0</td>\n",
       "      <td>0.0</td>\n",
       "      <td>0.0</td>\n",
       "      <td>0.0</td>\n",
       "    </tr>\n",
       "    <tr>\n",
       "      <th>max</th>\n",
       "      <td>220852.000000</td>\n",
       "      <td>0.0</td>\n",
       "      <td>0.0</td>\n",
       "      <td>0.0</td>\n",
       "      <td>0.0</td>\n",
       "      <td>0.0</td>\n",
       "      <td>0.0</td>\n",
       "    </tr>\n",
       "  </tbody>\n",
       "</table>\n",
       "</div>"
      ],
      "text/plain": [
       "          Unnamed: 0    Growth  Inflation  ...     Money    Fiscal     Other\n",
       "count  189494.000000  189494.0   189494.0  ...  189494.0  189494.0  189494.0\n",
       "mean   109299.531917       0.0        0.0  ...       0.0       0.0       0.0\n",
       "std     63907.299044       0.0        0.0  ...       0.0       0.0       0.0\n",
       "min         0.000000       0.0        0.0  ...       0.0       0.0       0.0\n",
       "25%     53950.250000       0.0        0.0  ...       0.0       0.0       0.0\n",
       "50%    107822.500000       0.0        0.0  ...       0.0       0.0       0.0\n",
       "75%    164733.750000       0.0        0.0  ...       0.0       0.0       0.0\n",
       "max    220852.000000       0.0        0.0  ...       0.0       0.0       0.0\n",
       "\n",
       "[8 rows x 7 columns]"
      ]
     },
     "execution_count": 82,
     "metadata": {
      "tags": []
     },
     "output_type": "execute_result"
    }
   ],
   "source": [
    "test.describe()"
   ]
  },
  {
   "cell_type": "code",
   "execution_count": 0,
   "metadata": {
    "colab": {},
    "colab_type": "code",
    "id": "0MpDnfJv4Fwd"
   },
   "outputs": [],
   "source": [
    "df1 = pd.concat([test,df])"
   ]
  },
  {
   "cell_type": "code",
   "execution_count": 0,
   "metadata": {
    "colab": {},
    "colab_type": "code",
    "id": "jsbo4SQP4YBg"
   },
   "outputs": [],
   "source": [
    "train = df1.drop_duplicates(keep=False)"
   ]
  },
  {
   "cell_type": "code",
   "execution_count": 0,
   "metadata": {
    "colab": {
     "base_uri": "https://localhost:8080/",
     "height": 320
    },
    "colab_type": "code",
    "id": "jhRuY4ZrR2jN",
    "outputId": "6ed8cf87-d4cb-4343-b726-a3393f3373fb"
   },
   "outputs": [
    {
     "data": {
      "text/html": [
       "<div>\n",
       "<style scoped>\n",
       "    .dataframe tbody tr th:only-of-type {\n",
       "        vertical-align: middle;\n",
       "    }\n",
       "\n",
       "    .dataframe tbody tr th {\n",
       "        vertical-align: top;\n",
       "    }\n",
       "\n",
       "    .dataframe thead th {\n",
       "        text-align: right;\n",
       "    }\n",
       "</style>\n",
       "<table border=\"1\" class=\"dataframe\">\n",
       "  <thead>\n",
       "    <tr style=\"text-align: right;\">\n",
       "      <th></th>\n",
       "      <th>Unnamed: 0</th>\n",
       "      <th>Growth</th>\n",
       "      <th>Inflation</th>\n",
       "      <th>Cad</th>\n",
       "      <th>Money</th>\n",
       "      <th>Fiscal</th>\n",
       "      <th>Other</th>\n",
       "    </tr>\n",
       "  </thead>\n",
       "  <tbody>\n",
       "    <tr>\n",
       "      <th>count</th>\n",
       "      <td>31359.000000</td>\n",
       "      <td>31359.000000</td>\n",
       "      <td>31359.000000</td>\n",
       "      <td>31359.000000</td>\n",
       "      <td>31359.000000</td>\n",
       "      <td>31359.000000</td>\n",
       "      <td>31359.000000</td>\n",
       "    </tr>\n",
       "    <tr>\n",
       "      <th>mean</th>\n",
       "      <td>117232.943557</td>\n",
       "      <td>0.534073</td>\n",
       "      <td>0.411333</td>\n",
       "      <td>0.142957</td>\n",
       "      <td>0.096017</td>\n",
       "      <td>0.053222</td>\n",
       "      <td>0.040754</td>\n",
       "    </tr>\n",
       "    <tr>\n",
       "      <th>std</th>\n",
       "      <td>62395.971409</td>\n",
       "      <td>0.498846</td>\n",
       "      <td>0.492083</td>\n",
       "      <td>0.350035</td>\n",
       "      <td>0.294619</td>\n",
       "      <td>0.224480</td>\n",
       "      <td>0.197723</td>\n",
       "    </tr>\n",
       "    <tr>\n",
       "      <th>min</th>\n",
       "      <td>7.000000</td>\n",
       "      <td>0.000000</td>\n",
       "      <td>0.000000</td>\n",
       "      <td>0.000000</td>\n",
       "      <td>0.000000</td>\n",
       "      <td>0.000000</td>\n",
       "      <td>0.000000</td>\n",
       "    </tr>\n",
       "    <tr>\n",
       "      <th>25%</th>\n",
       "      <td>63979.000000</td>\n",
       "      <td>0.000000</td>\n",
       "      <td>0.000000</td>\n",
       "      <td>0.000000</td>\n",
       "      <td>0.000000</td>\n",
       "      <td>0.000000</td>\n",
       "      <td>0.000000</td>\n",
       "    </tr>\n",
       "    <tr>\n",
       "      <th>50%</th>\n",
       "      <td>124876.000000</td>\n",
       "      <td>1.000000</td>\n",
       "      <td>0.000000</td>\n",
       "      <td>0.000000</td>\n",
       "      <td>0.000000</td>\n",
       "      <td>0.000000</td>\n",
       "      <td>0.000000</td>\n",
       "    </tr>\n",
       "    <tr>\n",
       "      <th>75%</th>\n",
       "      <td>170273.500000</td>\n",
       "      <td>1.000000</td>\n",
       "      <td>1.000000</td>\n",
       "      <td>0.000000</td>\n",
       "      <td>0.000000</td>\n",
       "      <td>0.000000</td>\n",
       "      <td>0.000000</td>\n",
       "    </tr>\n",
       "    <tr>\n",
       "      <th>max</th>\n",
       "      <td>220848.000000</td>\n",
       "      <td>1.000000</td>\n",
       "      <td>1.000000</td>\n",
       "      <td>1.000000</td>\n",
       "      <td>1.000000</td>\n",
       "      <td>1.000000</td>\n",
       "      <td>1.000000</td>\n",
       "    </tr>\n",
       "  </tbody>\n",
       "</table>\n",
       "</div>"
      ],
      "text/plain": [
       "          Unnamed: 0        Growth  ...        Fiscal         Other\n",
       "count   31359.000000  31359.000000  ...  31359.000000  31359.000000\n",
       "mean   117232.943557      0.534073  ...      0.053222      0.040754\n",
       "std     62395.971409      0.498846  ...      0.224480      0.197723\n",
       "min         7.000000      0.000000  ...      0.000000      0.000000\n",
       "25%     63979.000000      0.000000  ...      0.000000      0.000000\n",
       "50%    124876.000000      1.000000  ...      0.000000      0.000000\n",
       "75%    170273.500000      1.000000  ...      0.000000      0.000000\n",
       "max    220848.000000      1.000000  ...      1.000000      1.000000\n",
       "\n",
       "[8 rows x 7 columns]"
      ]
     },
     "execution_count": 85,
     "metadata": {
      "tags": []
     },
     "output_type": "execute_result"
    }
   ],
   "source": [
    "train.describe()"
   ]
  },
  {
   "cell_type": "code",
   "execution_count": 0,
   "metadata": {
    "colab": {
     "base_uri": "https://localhost:8080/",
     "height": 225
    },
    "colab_type": "code",
    "id": "4AaWs3fV6CrE",
    "outputId": "1ec5f655-4047-4e3a-fec6-0e6d913662bd"
   },
   "outputs": [
    {
     "data": {
      "text/plain": [
       "7         In addition to weak demand, the sharp fall in ...\n",
       "9         There could be improvement in the days to com...\n",
       "45        The chart shows that average inflation expecta...\n",
       "47        add_main_imageThe years of low inflation from ...\n",
       "48        Conversely, the years of high inflation betwee...\n",
       "                                ...                        \n",
       "220840    The future of cryptocurrency startups is uncer...\n",
       "220841    A draft bill, Banning of Crypto Currency and R...\n",
       "220843    Also, billions of people worldwide are introd...\n",
       "220847    A person aware of the developments had told ET...\n",
       "220848    Sathvik Vishwanath, CEO and cofounder, Unocoin...\n",
       "Name: Sentence, Length: 31359, dtype: object"
      ]
     },
     "execution_count": 86,
     "metadata": {
      "tags": []
     },
     "output_type": "execute_result"
    }
   ],
   "source": [
    "train['Sentence']"
   ]
  },
  {
   "cell_type": "markdown",
   "metadata": {
    "colab_type": "text",
    "id": "s0WRxF-W6kUK"
   },
   "source": [
    "#NLP MultiClass\n"
   ]
  },
  {
   "cell_type": "code",
   "execution_count": 0,
   "metadata": {
    "colab": {},
    "colab_type": "code",
    "id": "32glwi8q6ilL"
   },
   "outputs": [],
   "source": [
    "NB_pipeline = Pipeline([\n",
    "                ('tfidf', TfidfVectorizer(stop_words=stop_words)),\n",
    "                ('clf', OneVsRestClassifier(MultinomialNB(\n",
    "                    fit_prior=True, class_prior=None))),\n",
    "            ])"
   ]
  },
  {
   "cell_type": "code",
   "execution_count": 0,
   "metadata": {
    "colab": {},
    "colab_type": "code",
    "id": "2fUi4xHd6oBb"
   },
   "outputs": [],
   "source": [
    " categories = ['Growth', 'Inflation', 'Cad', 'Money','Fiscal', 'Other']"
   ]
  },
  {
   "cell_type": "code",
   "execution_count": 0,
   "metadata": {
    "colab": {},
    "colab_type": "code",
    "id": "IrXbFCJfEa66"
   },
   "outputs": [],
   "source": [
    "x_train,x_test = tt(train,test_size = 0.5,random_state = 1)\n"
   ]
  },
  {
   "cell_type": "code",
   "execution_count": 0,
   "metadata": {
    "colab": {
     "base_uri": "https://localhost:8080/",
     "height": 225
    },
    "colab_type": "code",
    "id": "bid_e-0BDR55",
    "outputId": "cfdeb28f-55ea-4095-eee5-3192a9033070"
   },
   "outputs": [
    {
     "name": "stdout",
     "output_type": "stream",
     "text": [
      "... Processing Growth\n",
      "Test accuracy is 0.9246173469387755\n",
      "... Processing Inflation\n",
      "Test accuracy is 0.9117984693877551\n",
      "... Processing Cad\n",
      "Test accuracy is 0.8779336734693878\n",
      "... Processing Money\n",
      "Test accuracy is 0.9185586734693878\n",
      "... Processing Fiscal\n",
      "Test accuracy is 0.9452168367346939\n",
      "... Processing Other\n",
      "Test accuracy is 0.9584183673469387\n"
     ]
    }
   ],
   "source": [
    "for category in categories:\n",
    "    print('... Processing {}'.format(category))\n",
    "    # train the model using X_dtm & y\n",
    "    NB_pipeline.fit(x_train['Sentence'], x_train[category])\n",
    "    # compute the testing accuracy\n",
    "    prediction = NB_pipeline.predict(x_test['Sentence'])\n",
    "    print('Test accuracy is {}'.format(accuracy_score(x_test[category], prediction)))"
   ]
  },
  {
   "cell_type": "code",
   "execution_count": 0,
   "metadata": {
    "colab": {},
    "colab_type": "code",
    "id": "5M2NB_b0FSeZ"
   },
   "outputs": [],
   "source": [
    "SVC_pipeline = Pipeline([\n",
    "                ('tfidf', TfidfVectorizer(stop_words=stop_words)),\n",
    "                ('clf', OneVsRestClassifier(LinearSVC(), n_jobs=1)),\n",
    "            ])"
   ]
  },
  {
   "cell_type": "code",
   "execution_count": 0,
   "metadata": {
    "colab": {
     "base_uri": "https://localhost:8080/",
     "height": 225
    },
    "colab_type": "code",
    "id": "7UAtyxZZGDPz",
    "outputId": "3e45fcb6-657e-45d2-a980-c85a2343671e"
   },
   "outputs": [
    {
     "name": "stdout",
     "output_type": "stream",
     "text": [
      "... Processing Growth\n",
      "Test accuracy is 0.9815051020408163\n",
      "... Processing Inflation\n",
      "Test accuracy is 0.9830357142857142\n",
      "... Processing Cad\n",
      "Test accuracy is 0.9827168367346939\n",
      "... Processing Money\n",
      "Test accuracy is 0.9900510204081633\n",
      "... Processing Fiscal\n",
      "Test accuracy is 0.99375\n",
      "... Processing Other\n",
      "Test accuracy is 0.9926020408163265\n"
     ]
    }
   ],
   "source": [
    "for category in categories:\n",
    "    print('... Processing {}'.format(category))\n",
    "    # train the model using X_dtm & y\n",
    "    SVC_pipeline.fit(x_train['Sentence'], x_train[category])\n",
    "    # compute the testing accuracy\n",
    "    prediction = SVC_pipeline.predict(x_test['Sentence'])\n",
    "    print('Test accuracy is {}'.format(accuracy_score(x_test[category], prediction)))"
   ]
  },
  {
   "cell_type": "code",
   "execution_count": 0,
   "metadata": {
    "colab": {},
    "colab_type": "code",
    "id": "QKPsFGzwGcBW"
   },
   "outputs": [],
   "source": [
    "LogReg_pipeline = Pipeline([\n",
    "                ('tfidf', TfidfVectorizer(stop_words=stop_words)),\n",
    "                ('clf', OneVsRestClassifier(LogisticRegression(solver='sag'), n_jobs=1)),\n",
    "            ])"
   ]
  },
  {
   "cell_type": "code",
   "execution_count": 0,
   "metadata": {
    "colab": {
     "base_uri": "https://localhost:8080/",
     "height": 225
    },
    "colab_type": "code",
    "id": "as-jhiJpGf4F",
    "outputId": "dd2088bd-25ac-4a3a-cb5a-1f5fc773ec94"
   },
   "outputs": [
    {
     "name": "stdout",
     "output_type": "stream",
     "text": [
      "... Processing Growth\n",
      "Test accuracy is 0.973405612244898\n",
      "... Processing Inflation\n",
      "Test accuracy is 0.9677295918367347\n",
      "... Processing Cad\n",
      "Test accuracy is 0.963265306122449\n",
      "... Processing Money\n",
      "Test accuracy is 0.9741709183673469\n",
      "... Processing Fiscal\n",
      "Test accuracy is 0.9841198979591836\n",
      "... Processing Other\n",
      "Test accuracy is 0.9791454081632653\n"
     ]
    }
   ],
   "source": [
    "for category in categories:\n",
    "    print('... Processing {}'.format(category))\n",
    "    # train the model using X_dtm & y\n",
    "    LogReg_pipeline.fit(x_train['Sentence'], x_train[category])\n",
    "    # compute the testing accuracy\n",
    "    prediction = LogReg_pipeline.predict(x_test['Sentence'])\n",
    "    print('Test accuracy is {}'.format(accuracy_score(x_test[category], prediction)))"
   ]
  },
  {
   "cell_type": "markdown",
   "metadata": {
    "colab_type": "text",
    "id": "yXMVd7n-GyKm"
   },
   "source": [
    "#Test Dataset NLP Multiclass model"
   ]
  },
  {
   "cell_type": "code",
   "execution_count": 0,
   "metadata": {
    "colab": {},
    "colab_type": "code",
    "id": "pzJD9-cszNZr"
   },
   "outputs": [],
   "source": [
    "x_train,x_test = tt(train,test_size = 0.5,random_state = 9)"
   ]
  },
  {
   "cell_type": "code",
   "execution_count": 0,
   "metadata": {
    "colab": {
     "base_uri": "https://localhost:8080/",
     "height": 121
    },
    "colab_type": "code",
    "id": "1J9tqS_JHcgd",
    "outputId": "d0f55345-4d08-4375-c365-bbbb5e11a5f7"
   },
   "outputs": [
    {
     "name": "stdout",
     "output_type": "stream",
     "text": [
      "... Processing Growth\n",
      "... Processing Inflation\n",
      "... Processing Cad\n",
      "... Processing Money\n",
      "... Processing Fiscal\n",
      "... Processing Other\n"
     ]
    }
   ],
   "source": [
    "for category in categories:\n",
    "    print('... Processing {}'.format(category))\n",
    "    # train the model using X_dtm & y\n",
    "    SVC_pipeline.fit(x_train['Sentence'], x_train[category])\n",
    "    # compute the testing accuracy\n",
    "    prediction = SVC_pipeline.predict(test['Sentence'])\n",
    "    test[category] = prediction"
   ]
  },
  {
   "cell_type": "code",
   "execution_count": 0,
   "metadata": {
    "colab": {
     "base_uri": "https://localhost:8080/",
     "height": 72
    },
    "colab_type": "code",
    "id": "xCCkjP-2HPy7",
    "outputId": "c573912e-aedb-4faa-c5e5-08a801cf1d06"
   },
   "outputs": [
    {
     "name": "stderr",
     "output_type": "stream",
     "text": [
      "/usr/local/lib/python3.6/dist-packages/ipykernel_launcher.py:1: UserWarning: Boolean Series key will be reindexed to match DataFrame index.\n",
      "  \"\"\"Entry point for launching an IPython kernel.\n"
     ]
    }
   ],
   "source": [
    "anomoly = test[test['Growth']== 0][test['Inflation']==0][test['Cad']==0][test['Money']==0][test['Fiscal']==0][test['Other']==0]"
   ]
  },
  {
   "cell_type": "code",
   "execution_count": 0,
   "metadata": {
    "colab": {
     "base_uri": "https://localhost:8080/",
     "height": 300
    },
    "colab_type": "code",
    "id": "x3-MSd0dXSDl",
    "outputId": "e9970a81-07c3-498e-d590-3f1d8bf4fc19"
   },
   "outputs": [
    {
     "data": {
      "text/html": [
       "<div>\n",
       "<style scoped>\n",
       "    .dataframe tbody tr th:only-of-type {\n",
       "        vertical-align: middle;\n",
       "    }\n",
       "\n",
       "    .dataframe tbody tr th {\n",
       "        vertical-align: top;\n",
       "    }\n",
       "\n",
       "    .dataframe thead th {\n",
       "        text-align: right;\n",
       "    }\n",
       "</style>\n",
       "<table border=\"1\" class=\"dataframe\">\n",
       "  <thead>\n",
       "    <tr style=\"text-align: right;\">\n",
       "      <th></th>\n",
       "      <th>Unnamed: 0</th>\n",
       "      <th>Growth</th>\n",
       "      <th>Inflation</th>\n",
       "      <th>Cad</th>\n",
       "      <th>Money</th>\n",
       "      <th>Fiscal</th>\n",
       "      <th>Other</th>\n",
       "    </tr>\n",
       "  </thead>\n",
       "  <tbody>\n",
       "    <tr>\n",
       "      <th>count</th>\n",
       "      <td>126921.000000</td>\n",
       "      <td>126921.0</td>\n",
       "      <td>126921.0</td>\n",
       "      <td>126921.0</td>\n",
       "      <td>126921.0</td>\n",
       "      <td>126921.0</td>\n",
       "      <td>126921.0</td>\n",
       "    </tr>\n",
       "    <tr>\n",
       "      <th>mean</th>\n",
       "      <td>110844.316488</td>\n",
       "      <td>0.0</td>\n",
       "      <td>0.0</td>\n",
       "      <td>0.0</td>\n",
       "      <td>0.0</td>\n",
       "      <td>0.0</td>\n",
       "      <td>0.0</td>\n",
       "    </tr>\n",
       "    <tr>\n",
       "      <th>std</th>\n",
       "      <td>64008.795475</td>\n",
       "      <td>0.0</td>\n",
       "      <td>0.0</td>\n",
       "      <td>0.0</td>\n",
       "      <td>0.0</td>\n",
       "      <td>0.0</td>\n",
       "      <td>0.0</td>\n",
       "    </tr>\n",
       "    <tr>\n",
       "      <th>min</th>\n",
       "      <td>0.000000</td>\n",
       "      <td>0.0</td>\n",
       "      <td>0.0</td>\n",
       "      <td>0.0</td>\n",
       "      <td>0.0</td>\n",
       "      <td>0.0</td>\n",
       "      <td>0.0</td>\n",
       "    </tr>\n",
       "    <tr>\n",
       "      <th>25%</th>\n",
       "      <td>55265.000000</td>\n",
       "      <td>0.0</td>\n",
       "      <td>0.0</td>\n",
       "      <td>0.0</td>\n",
       "      <td>0.0</td>\n",
       "      <td>0.0</td>\n",
       "      <td>0.0</td>\n",
       "    </tr>\n",
       "    <tr>\n",
       "      <th>50%</th>\n",
       "      <td>110605.000000</td>\n",
       "      <td>0.0</td>\n",
       "      <td>0.0</td>\n",
       "      <td>0.0</td>\n",
       "      <td>0.0</td>\n",
       "      <td>0.0</td>\n",
       "      <td>0.0</td>\n",
       "    </tr>\n",
       "    <tr>\n",
       "      <th>75%</th>\n",
       "      <td>166511.000000</td>\n",
       "      <td>0.0</td>\n",
       "      <td>0.0</td>\n",
       "      <td>0.0</td>\n",
       "      <td>0.0</td>\n",
       "      <td>0.0</td>\n",
       "      <td>0.0</td>\n",
       "    </tr>\n",
       "    <tr>\n",
       "      <th>max</th>\n",
       "      <td>220852.000000</td>\n",
       "      <td>0.0</td>\n",
       "      <td>0.0</td>\n",
       "      <td>0.0</td>\n",
       "      <td>0.0</td>\n",
       "      <td>0.0</td>\n",
       "      <td>0.0</td>\n",
       "    </tr>\n",
       "  </tbody>\n",
       "</table>\n",
       "</div>"
      ],
      "text/plain": [
       "          Unnamed: 0    Growth  Inflation  ...     Money    Fiscal     Other\n",
       "count  126921.000000  126921.0   126921.0  ...  126921.0  126921.0  126921.0\n",
       "mean   110844.316488       0.0        0.0  ...       0.0       0.0       0.0\n",
       "std     64008.795475       0.0        0.0  ...       0.0       0.0       0.0\n",
       "min         0.000000       0.0        0.0  ...       0.0       0.0       0.0\n",
       "25%     55265.000000       0.0        0.0  ...       0.0       0.0       0.0\n",
       "50%    110605.000000       0.0        0.0  ...       0.0       0.0       0.0\n",
       "75%    166511.000000       0.0        0.0  ...       0.0       0.0       0.0\n",
       "max    220852.000000       0.0        0.0  ...       0.0       0.0       0.0\n",
       "\n",
       "[8 rows x 7 columns]"
      ]
     },
     "execution_count": 98,
     "metadata": {
      "tags": []
     },
     "output_type": "execute_result"
    }
   ],
   "source": [
    "anomoly.describe()"
   ]
  },
  {
   "cell_type": "code",
   "execution_count": 0,
   "metadata": {
    "colab": {},
    "colab_type": "code",
    "id": "b3yRmBOMqF_U"
   },
   "outputs": [],
   "source": [
    "x_train,x_test = tt(train,test_size = 0.5,random_state = 8)"
   ]
  },
  {
   "cell_type": "code",
   "execution_count": 0,
   "metadata": {
    "colab": {},
    "colab_type": "code",
    "id": "xyrXIaZXJqC7"
   },
   "outputs": [],
   "source": [
    "train1 = pd.concat([test,train,anomoly])\n"
   ]
  },
  {
   "cell_type": "code",
   "execution_count": 0,
   "metadata": {
    "colab": {},
    "colab_type": "code",
    "id": "L-wB8RcXTwOz"
   },
   "outputs": [],
   "source": [
    "train = train1.drop_duplicates(keep=False)"
   ]
  },
  {
   "cell_type": "code",
   "execution_count": 0,
   "metadata": {
    "colab": {
     "base_uri": "https://localhost:8080/",
     "height": 320
    },
    "colab_type": "code",
    "id": "CjB6wtcTTyUd",
    "outputId": "6068f0db-7a55-4a42-a81c-eea6c19ea256"
   },
   "outputs": [
    {
     "data": {
      "text/html": [
       "<div>\n",
       "<style scoped>\n",
       "    .dataframe tbody tr th:only-of-type {\n",
       "        vertical-align: middle;\n",
       "    }\n",
       "\n",
       "    .dataframe tbody tr th {\n",
       "        vertical-align: top;\n",
       "    }\n",
       "\n",
       "    .dataframe thead th {\n",
       "        text-align: right;\n",
       "    }\n",
       "</style>\n",
       "<table border=\"1\" class=\"dataframe\">\n",
       "  <thead>\n",
       "    <tr style=\"text-align: right;\">\n",
       "      <th></th>\n",
       "      <th>Unnamed: 0</th>\n",
       "      <th>Growth</th>\n",
       "      <th>Inflation</th>\n",
       "      <th>Cad</th>\n",
       "      <th>Money</th>\n",
       "      <th>Fiscal</th>\n",
       "      <th>Other</th>\n",
       "    </tr>\n",
       "  </thead>\n",
       "  <tbody>\n",
       "    <tr>\n",
       "      <th>count</th>\n",
       "      <td>93932.000000</td>\n",
       "      <td>93932.000000</td>\n",
       "      <td>93932.000000</td>\n",
       "      <td>93932.000000</td>\n",
       "      <td>93932.000000</td>\n",
       "      <td>93932.000000</td>\n",
       "      <td>93932.000000</td>\n",
       "    </tr>\n",
       "    <tr>\n",
       "      <th>mean</th>\n",
       "      <td>109860.770398</td>\n",
       "      <td>0.611698</td>\n",
       "      <td>0.277541</td>\n",
       "      <td>0.100413</td>\n",
       "      <td>0.075012</td>\n",
       "      <td>0.029500</td>\n",
       "      <td>0.033769</td>\n",
       "    </tr>\n",
       "    <tr>\n",
       "      <th>std</th>\n",
       "      <td>63406.210596</td>\n",
       "      <td>0.487367</td>\n",
       "      <td>0.447788</td>\n",
       "      <td>0.300552</td>\n",
       "      <td>0.263412</td>\n",
       "      <td>0.169204</td>\n",
       "      <td>0.180635</td>\n",
       "    </tr>\n",
       "    <tr>\n",
       "      <th>min</th>\n",
       "      <td>3.000000</td>\n",
       "      <td>0.000000</td>\n",
       "      <td>0.000000</td>\n",
       "      <td>0.000000</td>\n",
       "      <td>0.000000</td>\n",
       "      <td>0.000000</td>\n",
       "      <td>0.000000</td>\n",
       "    </tr>\n",
       "    <tr>\n",
       "      <th>25%</th>\n",
       "      <td>55141.750000</td>\n",
       "      <td>0.000000</td>\n",
       "      <td>0.000000</td>\n",
       "      <td>0.000000</td>\n",
       "      <td>0.000000</td>\n",
       "      <td>0.000000</td>\n",
       "      <td>0.000000</td>\n",
       "    </tr>\n",
       "    <tr>\n",
       "      <th>50%</th>\n",
       "      <td>110184.500000</td>\n",
       "      <td>1.000000</td>\n",
       "      <td>0.000000</td>\n",
       "      <td>0.000000</td>\n",
       "      <td>0.000000</td>\n",
       "      <td>0.000000</td>\n",
       "      <td>0.000000</td>\n",
       "    </tr>\n",
       "    <tr>\n",
       "      <th>75%</th>\n",
       "      <td>164479.250000</td>\n",
       "      <td>1.000000</td>\n",
       "      <td>1.000000</td>\n",
       "      <td>0.000000</td>\n",
       "      <td>0.000000</td>\n",
       "      <td>0.000000</td>\n",
       "      <td>0.000000</td>\n",
       "    </tr>\n",
       "    <tr>\n",
       "      <th>max</th>\n",
       "      <td>220848.000000</td>\n",
       "      <td>1.000000</td>\n",
       "      <td>1.000000</td>\n",
       "      <td>1.000000</td>\n",
       "      <td>1.000000</td>\n",
       "      <td>1.000000</td>\n",
       "      <td>1.000000</td>\n",
       "    </tr>\n",
       "  </tbody>\n",
       "</table>\n",
       "</div>"
      ],
      "text/plain": [
       "          Unnamed: 0        Growth  ...        Fiscal         Other\n",
       "count   93932.000000  93932.000000  ...  93932.000000  93932.000000\n",
       "mean   109860.770398      0.611698  ...      0.029500      0.033769\n",
       "std     63406.210596      0.487367  ...      0.169204      0.180635\n",
       "min         3.000000      0.000000  ...      0.000000      0.000000\n",
       "25%     55141.750000      0.000000  ...      0.000000      0.000000\n",
       "50%    110184.500000      1.000000  ...      0.000000      0.000000\n",
       "75%    164479.250000      1.000000  ...      0.000000      0.000000\n",
       "max    220848.000000      1.000000  ...      1.000000      1.000000\n",
       "\n",
       "[8 rows x 7 columns]"
      ]
     },
     "execution_count": 102,
     "metadata": {
      "tags": []
     },
     "output_type": "execute_result"
    }
   ],
   "source": [
    "train.describe()"
   ]
  },
  {
   "cell_type": "code",
   "execution_count": 0,
   "metadata": {
    "colab": {
     "base_uri": "https://localhost:8080/",
     "height": 121
    },
    "colab_type": "code",
    "id": "Wvy9s3uHKGph",
    "outputId": "f01cf421-3da9-4aae-dc9b-8910b3df4cd0"
   },
   "outputs": [
    {
     "name": "stdout",
     "output_type": "stream",
     "text": [
      "... Processing Growth\n",
      "... Processing Inflation\n",
      "... Processing Cad\n",
      "... Processing Money\n",
      "... Processing Fiscal\n",
      "... Processing Other\n"
     ]
    }
   ],
   "source": [
    "for category in categories:\n",
    "    print('... Processing {}'.format(category))\n",
    "    # train the model using X_dtm & y\n",
    "    LogReg_pipeline.fit(x_train['Sentence'], x_train[category])\n",
    "    # compute the testing accuracy\n",
    "    prediction = LogReg_pipeline.predict(anomoly['Sentence'])\n",
    "    anomoly[category] = prediction"
   ]
  },
  {
   "cell_type": "code",
   "execution_count": 0,
   "metadata": {
    "colab": {
     "base_uri": "https://localhost:8080/",
     "height": 72
    },
    "colab_type": "code",
    "id": "Bi8aL-QSIx3C",
    "outputId": "0d733444-4038-4185-9b2c-f94a94e60c3c"
   },
   "outputs": [
    {
     "name": "stderr",
     "output_type": "stream",
     "text": [
      "/usr/local/lib/python3.6/dist-packages/ipykernel_launcher.py:1: UserWarning: Boolean Series key will be reindexed to match DataFrame index.\n",
      "  \"\"\"Entry point for launching an IPython kernel.\n"
     ]
    }
   ],
   "source": [
    "Check = anomoly[anomoly['Growth']== 0][anomoly['Inflation']==0][anomoly['Cad']==0][anomoly['Money']==0][anomoly['Fiscal']==0][anomoly['Other']==0]"
   ]
  },
  {
   "cell_type": "code",
   "execution_count": 0,
   "metadata": {
    "colab": {
     "base_uri": "https://localhost:8080/",
     "height": 300
    },
    "colab_type": "code",
    "id": "YP5U6kX5Ke8j",
    "outputId": "2fe8e4e5-b2be-4bd4-e46d-f1fe6b20c3f2"
   },
   "outputs": [
    {
     "data": {
      "text/html": [
       "<div>\n",
       "<style scoped>\n",
       "    .dataframe tbody tr th:only-of-type {\n",
       "        vertical-align: middle;\n",
       "    }\n",
       "\n",
       "    .dataframe tbody tr th {\n",
       "        vertical-align: top;\n",
       "    }\n",
       "\n",
       "    .dataframe thead th {\n",
       "        text-align: right;\n",
       "    }\n",
       "</style>\n",
       "<table border=\"1\" class=\"dataframe\">\n",
       "  <thead>\n",
       "    <tr style=\"text-align: right;\">\n",
       "      <th></th>\n",
       "      <th>Unnamed: 0</th>\n",
       "      <th>Growth</th>\n",
       "      <th>Inflation</th>\n",
       "      <th>Cad</th>\n",
       "      <th>Money</th>\n",
       "      <th>Fiscal</th>\n",
       "      <th>Other</th>\n",
       "    </tr>\n",
       "  </thead>\n",
       "  <tbody>\n",
       "    <tr>\n",
       "      <th>count</th>\n",
       "      <td>91234.000000</td>\n",
       "      <td>91234.0</td>\n",
       "      <td>91234.0</td>\n",
       "      <td>91234.0</td>\n",
       "      <td>91234.0</td>\n",
       "      <td>91234.0</td>\n",
       "      <td>91234.0</td>\n",
       "    </tr>\n",
       "    <tr>\n",
       "      <th>mean</th>\n",
       "      <td>112575.311989</td>\n",
       "      <td>0.0</td>\n",
       "      <td>0.0</td>\n",
       "      <td>0.0</td>\n",
       "      <td>0.0</td>\n",
       "      <td>0.0</td>\n",
       "      <td>0.0</td>\n",
       "    </tr>\n",
       "    <tr>\n",
       "      <th>std</th>\n",
       "      <td>63780.718361</td>\n",
       "      <td>0.0</td>\n",
       "      <td>0.0</td>\n",
       "      <td>0.0</td>\n",
       "      <td>0.0</td>\n",
       "      <td>0.0</td>\n",
       "      <td>0.0</td>\n",
       "    </tr>\n",
       "    <tr>\n",
       "      <th>min</th>\n",
       "      <td>0.000000</td>\n",
       "      <td>0.0</td>\n",
       "      <td>0.0</td>\n",
       "      <td>0.0</td>\n",
       "      <td>0.0</td>\n",
       "      <td>0.0</td>\n",
       "      <td>0.0</td>\n",
       "    </tr>\n",
       "    <tr>\n",
       "      <th>25%</th>\n",
       "      <td>57420.500000</td>\n",
       "      <td>0.0</td>\n",
       "      <td>0.0</td>\n",
       "      <td>0.0</td>\n",
       "      <td>0.0</td>\n",
       "      <td>0.0</td>\n",
       "      <td>0.0</td>\n",
       "    </tr>\n",
       "    <tr>\n",
       "      <th>50%</th>\n",
       "      <td>114303.000000</td>\n",
       "      <td>0.0</td>\n",
       "      <td>0.0</td>\n",
       "      <td>0.0</td>\n",
       "      <td>0.0</td>\n",
       "      <td>0.0</td>\n",
       "      <td>0.0</td>\n",
       "    </tr>\n",
       "    <tr>\n",
       "      <th>75%</th>\n",
       "      <td>167940.000000</td>\n",
       "      <td>0.0</td>\n",
       "      <td>0.0</td>\n",
       "      <td>0.0</td>\n",
       "      <td>0.0</td>\n",
       "      <td>0.0</td>\n",
       "      <td>0.0</td>\n",
       "    </tr>\n",
       "    <tr>\n",
       "      <th>max</th>\n",
       "      <td>220852.000000</td>\n",
       "      <td>0.0</td>\n",
       "      <td>0.0</td>\n",
       "      <td>0.0</td>\n",
       "      <td>0.0</td>\n",
       "      <td>0.0</td>\n",
       "      <td>0.0</td>\n",
       "    </tr>\n",
       "  </tbody>\n",
       "</table>\n",
       "</div>"
      ],
      "text/plain": [
       "          Unnamed: 0   Growth  Inflation      Cad    Money   Fiscal    Other\n",
       "count   91234.000000  91234.0    91234.0  91234.0  91234.0  91234.0  91234.0\n",
       "mean   112575.311989      0.0        0.0      0.0      0.0      0.0      0.0\n",
       "std     63780.718361      0.0        0.0      0.0      0.0      0.0      0.0\n",
       "min         0.000000      0.0        0.0      0.0      0.0      0.0      0.0\n",
       "25%     57420.500000      0.0        0.0      0.0      0.0      0.0      0.0\n",
       "50%    114303.000000      0.0        0.0      0.0      0.0      0.0      0.0\n",
       "75%    167940.000000      0.0        0.0      0.0      0.0      0.0      0.0\n",
       "max    220852.000000      0.0        0.0      0.0      0.0      0.0      0.0"
      ]
     },
     "execution_count": 105,
     "metadata": {
      "tags": []
     },
     "output_type": "execute_result"
    }
   ],
   "source": [
    "Check.describe()"
   ]
  },
  {
   "cell_type": "code",
   "execution_count": 0,
   "metadata": {
    "colab": {},
    "colab_type": "code",
    "id": "g9doKVC3WddI"
   },
   "outputs": [],
   "source": [
    "train1 = pd.concat([Check,train,anomoly])"
   ]
  },
  {
   "cell_type": "code",
   "execution_count": 0,
   "metadata": {
    "colab": {},
    "colab_type": "code",
    "id": "FBvBV5tqWoxn"
   },
   "outputs": [],
   "source": [
    "train = train1.drop_duplicates(keep=False)"
   ]
  },
  {
   "cell_type": "code",
   "execution_count": 0,
   "metadata": {
    "colab": {},
    "colab_type": "code",
    "id": "Txvxr2Yg1zQW"
   },
   "outputs": [],
   "source": [
    "x_train,x_test = tt(train,test_size = 0.5,random_state = 5)"
   ]
  },
  {
   "cell_type": "code",
   "execution_count": 0,
   "metadata": {
    "colab": {
     "base_uri": "https://localhost:8080/",
     "height": 121
    },
    "colab_type": "code",
    "id": "_AQLdm4QG3Ww",
    "outputId": "72981ebd-19ee-41de-90ef-dffc80ee6a8a"
   },
   "outputs": [
    {
     "name": "stdout",
     "output_type": "stream",
     "text": [
      "... Processing Growth\n",
      "... Processing Inflation\n",
      "... Processing Cad\n",
      "... Processing Money\n",
      "... Processing Fiscal\n",
      "... Processing Other\n"
     ]
    }
   ],
   "source": [
    "for category in categories:\n",
    "    print('... Processing {}'.format(category))\n",
    "    # train the model using X_dtm & y\n",
    "    SVC_pipeline.fit(x_train['Sentence'], x_train[category])\n",
    "    # compute the testing accuracy\n",
    "    prediction = SVC_pipeline.predict(Check['Sentence'])\n",
    "    Check[category] = prediction"
   ]
  },
  {
   "cell_type": "code",
   "execution_count": 0,
   "metadata": {
    "colab": {
     "base_uri": "https://localhost:8080/",
     "height": 72
    },
    "colab_type": "code",
    "id": "ldP1xKunI-Mu",
    "outputId": "84458693-8815-4cfc-bb28-3601430aa196"
   },
   "outputs": [
    {
     "name": "stderr",
     "output_type": "stream",
     "text": [
      "/usr/local/lib/python3.6/dist-packages/ipykernel_launcher.py:1: UserWarning: Boolean Series key will be reindexed to match DataFrame index.\n",
      "  \"\"\"Entry point for launching an IPython kernel.\n"
     ]
    }
   ],
   "source": [
    "Check1 = Check[Check['Growth']== 0][Check['Inflation']==0][Check['Cad']==0][Check['Money']==0][Check['Fiscal']==0][Check['Other']==0]"
   ]
  },
  {
   "cell_type": "code",
   "execution_count": 0,
   "metadata": {
    "colab": {
     "base_uri": "https://localhost:8080/",
     "height": 300
    },
    "colab_type": "code",
    "id": "bqUIw03CK30S",
    "outputId": "bdb5979b-9d58-4a85-bc6c-4ef979e1bbf4"
   },
   "outputs": [
    {
     "data": {
      "text/html": [
       "<div>\n",
       "<style scoped>\n",
       "    .dataframe tbody tr th:only-of-type {\n",
       "        vertical-align: middle;\n",
       "    }\n",
       "\n",
       "    .dataframe tbody tr th {\n",
       "        vertical-align: top;\n",
       "    }\n",
       "\n",
       "    .dataframe thead th {\n",
       "        text-align: right;\n",
       "    }\n",
       "</style>\n",
       "<table border=\"1\" class=\"dataframe\">\n",
       "  <thead>\n",
       "    <tr style=\"text-align: right;\">\n",
       "      <th></th>\n",
       "      <th>Unnamed: 0</th>\n",
       "      <th>Growth</th>\n",
       "      <th>Inflation</th>\n",
       "      <th>Cad</th>\n",
       "      <th>Money</th>\n",
       "      <th>Fiscal</th>\n",
       "      <th>Other</th>\n",
       "    </tr>\n",
       "  </thead>\n",
       "  <tbody>\n",
       "    <tr>\n",
       "      <th>count</th>\n",
       "      <td>25095.000000</td>\n",
       "      <td>25095.0</td>\n",
       "      <td>25095.0</td>\n",
       "      <td>25095.0</td>\n",
       "      <td>25095.0</td>\n",
       "      <td>25095.0</td>\n",
       "      <td>25095.0</td>\n",
       "    </tr>\n",
       "    <tr>\n",
       "      <th>mean</th>\n",
       "      <td>113323.783702</td>\n",
       "      <td>0.0</td>\n",
       "      <td>0.0</td>\n",
       "      <td>0.0</td>\n",
       "      <td>0.0</td>\n",
       "      <td>0.0</td>\n",
       "      <td>0.0</td>\n",
       "    </tr>\n",
       "    <tr>\n",
       "      <th>std</th>\n",
       "      <td>62525.957493</td>\n",
       "      <td>0.0</td>\n",
       "      <td>0.0</td>\n",
       "      <td>0.0</td>\n",
       "      <td>0.0</td>\n",
       "      <td>0.0</td>\n",
       "      <td>0.0</td>\n",
       "    </tr>\n",
       "    <tr>\n",
       "      <th>min</th>\n",
       "      <td>1.000000</td>\n",
       "      <td>0.0</td>\n",
       "      <td>0.0</td>\n",
       "      <td>0.0</td>\n",
       "      <td>0.0</td>\n",
       "      <td>0.0</td>\n",
       "      <td>0.0</td>\n",
       "    </tr>\n",
       "    <tr>\n",
       "      <th>25%</th>\n",
       "      <td>59747.000000</td>\n",
       "      <td>0.0</td>\n",
       "      <td>0.0</td>\n",
       "      <td>0.0</td>\n",
       "      <td>0.0</td>\n",
       "      <td>0.0</td>\n",
       "      <td>0.0</td>\n",
       "    </tr>\n",
       "    <tr>\n",
       "      <th>50%</th>\n",
       "      <td>116830.000000</td>\n",
       "      <td>0.0</td>\n",
       "      <td>0.0</td>\n",
       "      <td>0.0</td>\n",
       "      <td>0.0</td>\n",
       "      <td>0.0</td>\n",
       "      <td>0.0</td>\n",
       "    </tr>\n",
       "    <tr>\n",
       "      <th>75%</th>\n",
       "      <td>167029.500000</td>\n",
       "      <td>0.0</td>\n",
       "      <td>0.0</td>\n",
       "      <td>0.0</td>\n",
       "      <td>0.0</td>\n",
       "      <td>0.0</td>\n",
       "      <td>0.0</td>\n",
       "    </tr>\n",
       "    <tr>\n",
       "      <th>max</th>\n",
       "      <td>220851.000000</td>\n",
       "      <td>0.0</td>\n",
       "      <td>0.0</td>\n",
       "      <td>0.0</td>\n",
       "      <td>0.0</td>\n",
       "      <td>0.0</td>\n",
       "      <td>0.0</td>\n",
       "    </tr>\n",
       "  </tbody>\n",
       "</table>\n",
       "</div>"
      ],
      "text/plain": [
       "          Unnamed: 0   Growth  Inflation      Cad    Money   Fiscal    Other\n",
       "count   25095.000000  25095.0    25095.0  25095.0  25095.0  25095.0  25095.0\n",
       "mean   113323.783702      0.0        0.0      0.0      0.0      0.0      0.0\n",
       "std     62525.957493      0.0        0.0      0.0      0.0      0.0      0.0\n",
       "min         1.000000      0.0        0.0      0.0      0.0      0.0      0.0\n",
       "25%     59747.000000      0.0        0.0      0.0      0.0      0.0      0.0\n",
       "50%    116830.000000      0.0        0.0      0.0      0.0      0.0      0.0\n",
       "75%    167029.500000      0.0        0.0      0.0      0.0      0.0      0.0\n",
       "max    220851.000000      0.0        0.0      0.0      0.0      0.0      0.0"
      ]
     },
     "execution_count": 111,
     "metadata": {
      "tags": []
     },
     "output_type": "execute_result"
    }
   ],
   "source": [
    "Check1.describe()"
   ]
  },
  {
   "cell_type": "code",
   "execution_count": 0,
   "metadata": {
    "colab": {},
    "colab_type": "code",
    "id": "A7pPwE2HaM1I"
   },
   "outputs": [],
   "source": [
    "train1 = pd.concat([Check,train,Check1])\n",
    "train = train1.drop_duplicates(keep=False)"
   ]
  },
  {
   "cell_type": "code",
   "execution_count": 0,
   "metadata": {
    "colab": {
     "base_uri": "https://localhost:8080/",
     "height": 320
    },
    "colab_type": "code",
    "id": "VGd8YOpMbneE",
    "outputId": "61de72c7-8686-49a8-f8a8-1b6b9373f13f"
   },
   "outputs": [
    {
     "data": {
      "text/html": [
       "<div>\n",
       "<style scoped>\n",
       "    .dataframe tbody tr th:only-of-type {\n",
       "        vertical-align: middle;\n",
       "    }\n",
       "\n",
       "    .dataframe tbody tr th {\n",
       "        vertical-align: top;\n",
       "    }\n",
       "\n",
       "    .dataframe thead th {\n",
       "        text-align: right;\n",
       "    }\n",
       "</style>\n",
       "<table border=\"1\" class=\"dataframe\">\n",
       "  <thead>\n",
       "    <tr style=\"text-align: right;\">\n",
       "      <th></th>\n",
       "      <th>Unnamed: 0</th>\n",
       "      <th>Growth</th>\n",
       "      <th>Inflation</th>\n",
       "      <th>Cad</th>\n",
       "      <th>Money</th>\n",
       "      <th>Fiscal</th>\n",
       "      <th>Other</th>\n",
       "    </tr>\n",
       "  </thead>\n",
       "  <tbody>\n",
       "    <tr>\n",
       "      <th>count</th>\n",
       "      <td>195758.000000</td>\n",
       "      <td>195758.000000</td>\n",
       "      <td>195758.000000</td>\n",
       "      <td>195758.000000</td>\n",
       "      <td>195758.000000</td>\n",
       "      <td>195758.000000</td>\n",
       "      <td>195758.000000</td>\n",
       "    </tr>\n",
       "    <tr>\n",
       "      <th>mean</th>\n",
       "      <td>110054.521532</td>\n",
       "      <td>0.750595</td>\n",
       "      <td>0.163104</td>\n",
       "      <td>0.068922</td>\n",
       "      <td>0.049158</td>\n",
       "      <td>0.017123</td>\n",
       "      <td>0.023197</td>\n",
       "    </tr>\n",
       "    <tr>\n",
       "      <th>std</th>\n",
       "      <td>63901.404852</td>\n",
       "      <td>0.432670</td>\n",
       "      <td>0.369462</td>\n",
       "      <td>0.253322</td>\n",
       "      <td>0.216198</td>\n",
       "      <td>0.129731</td>\n",
       "      <td>0.150529</td>\n",
       "    </tr>\n",
       "    <tr>\n",
       "      <th>min</th>\n",
       "      <td>0.000000</td>\n",
       "      <td>0.000000</td>\n",
       "      <td>0.000000</td>\n",
       "      <td>0.000000</td>\n",
       "      <td>0.000000</td>\n",
       "      <td>0.000000</td>\n",
       "      <td>0.000000</td>\n",
       "    </tr>\n",
       "    <tr>\n",
       "      <th>25%</th>\n",
       "      <td>54702.250000</td>\n",
       "      <td>1.000000</td>\n",
       "      <td>0.000000</td>\n",
       "      <td>0.000000</td>\n",
       "      <td>0.000000</td>\n",
       "      <td>0.000000</td>\n",
       "      <td>0.000000</td>\n",
       "    </tr>\n",
       "    <tr>\n",
       "      <th>50%</th>\n",
       "      <td>109516.500000</td>\n",
       "      <td>1.000000</td>\n",
       "      <td>0.000000</td>\n",
       "      <td>0.000000</td>\n",
       "      <td>0.000000</td>\n",
       "      <td>0.000000</td>\n",
       "      <td>0.000000</td>\n",
       "    </tr>\n",
       "    <tr>\n",
       "      <th>75%</th>\n",
       "      <td>165445.500000</td>\n",
       "      <td>1.000000</td>\n",
       "      <td>0.000000</td>\n",
       "      <td>0.000000</td>\n",
       "      <td>0.000000</td>\n",
       "      <td>0.000000</td>\n",
       "      <td>0.000000</td>\n",
       "    </tr>\n",
       "    <tr>\n",
       "      <th>max</th>\n",
       "      <td>220852.000000</td>\n",
       "      <td>1.000000</td>\n",
       "      <td>1.000000</td>\n",
       "      <td>1.000000</td>\n",
       "      <td>1.000000</td>\n",
       "      <td>1.000000</td>\n",
       "      <td>1.000000</td>\n",
       "    </tr>\n",
       "  </tbody>\n",
       "</table>\n",
       "</div>"
      ],
      "text/plain": [
       "          Unnamed: 0         Growth  ...         Fiscal          Other\n",
       "count  195758.000000  195758.000000  ...  195758.000000  195758.000000\n",
       "mean   110054.521532       0.750595  ...       0.017123       0.023197\n",
       "std     63901.404852       0.432670  ...       0.129731       0.150529\n",
       "min         0.000000       0.000000  ...       0.000000       0.000000\n",
       "25%     54702.250000       1.000000  ...       0.000000       0.000000\n",
       "50%    109516.500000       1.000000  ...       0.000000       0.000000\n",
       "75%    165445.500000       1.000000  ...       0.000000       0.000000\n",
       "max    220852.000000       1.000000  ...       1.000000       1.000000\n",
       "\n",
       "[8 rows x 7 columns]"
      ]
     },
     "execution_count": 113,
     "metadata": {
      "tags": []
     },
     "output_type": "execute_result"
    }
   ],
   "source": [
    "train.describe()"
   ]
  },
  {
   "cell_type": "code",
   "execution_count": 0,
   "metadata": {
    "colab": {
     "base_uri": "https://localhost:8080/",
     "height": 320
    },
    "colab_type": "code",
    "id": "riDXBb4Vk7Fd",
    "outputId": "0b0d4e11-35e4-4dc9-e8fa-72e042100ced"
   },
   "outputs": [
    {
     "data": {
      "text/html": [
       "<div>\n",
       "<style scoped>\n",
       "    .dataframe tbody tr th:only-of-type {\n",
       "        vertical-align: middle;\n",
       "    }\n",
       "\n",
       "    .dataframe tbody tr th {\n",
       "        vertical-align: top;\n",
       "    }\n",
       "\n",
       "    .dataframe thead th {\n",
       "        text-align: right;\n",
       "    }\n",
       "</style>\n",
       "<table border=\"1\" class=\"dataframe\">\n",
       "  <thead>\n",
       "    <tr style=\"text-align: right;\">\n",
       "      <th></th>\n",
       "      <th>Unnamed: 0</th>\n",
       "      <th>Growth</th>\n",
       "      <th>Inflation</th>\n",
       "      <th>Cad</th>\n",
       "      <th>Money</th>\n",
       "      <th>Fiscal</th>\n",
       "      <th>Other</th>\n",
       "    </tr>\n",
       "  </thead>\n",
       "  <tbody>\n",
       "    <tr>\n",
       "      <th>count</th>\n",
       "      <td>195758.000000</td>\n",
       "      <td>195758.000000</td>\n",
       "      <td>195758.000000</td>\n",
       "      <td>195758.000000</td>\n",
       "      <td>195758.000000</td>\n",
       "      <td>195758.000000</td>\n",
       "      <td>195758.000000</td>\n",
       "    </tr>\n",
       "    <tr>\n",
       "      <th>mean</th>\n",
       "      <td>110054.521532</td>\n",
       "      <td>0.750595</td>\n",
       "      <td>0.163104</td>\n",
       "      <td>0.068922</td>\n",
       "      <td>0.049158</td>\n",
       "      <td>0.017123</td>\n",
       "      <td>0.023197</td>\n",
       "    </tr>\n",
       "    <tr>\n",
       "      <th>std</th>\n",
       "      <td>63901.404852</td>\n",
       "      <td>0.432670</td>\n",
       "      <td>0.369462</td>\n",
       "      <td>0.253322</td>\n",
       "      <td>0.216198</td>\n",
       "      <td>0.129731</td>\n",
       "      <td>0.150529</td>\n",
       "    </tr>\n",
       "    <tr>\n",
       "      <th>min</th>\n",
       "      <td>0.000000</td>\n",
       "      <td>0.000000</td>\n",
       "      <td>0.000000</td>\n",
       "      <td>0.000000</td>\n",
       "      <td>0.000000</td>\n",
       "      <td>0.000000</td>\n",
       "      <td>0.000000</td>\n",
       "    </tr>\n",
       "    <tr>\n",
       "      <th>25%</th>\n",
       "      <td>54702.250000</td>\n",
       "      <td>1.000000</td>\n",
       "      <td>0.000000</td>\n",
       "      <td>0.000000</td>\n",
       "      <td>0.000000</td>\n",
       "      <td>0.000000</td>\n",
       "      <td>0.000000</td>\n",
       "    </tr>\n",
       "    <tr>\n",
       "      <th>50%</th>\n",
       "      <td>109516.500000</td>\n",
       "      <td>1.000000</td>\n",
       "      <td>0.000000</td>\n",
       "      <td>0.000000</td>\n",
       "      <td>0.000000</td>\n",
       "      <td>0.000000</td>\n",
       "      <td>0.000000</td>\n",
       "    </tr>\n",
       "    <tr>\n",
       "      <th>75%</th>\n",
       "      <td>165445.500000</td>\n",
       "      <td>1.000000</td>\n",
       "      <td>0.000000</td>\n",
       "      <td>0.000000</td>\n",
       "      <td>0.000000</td>\n",
       "      <td>0.000000</td>\n",
       "      <td>0.000000</td>\n",
       "    </tr>\n",
       "    <tr>\n",
       "      <th>max</th>\n",
       "      <td>220852.000000</td>\n",
       "      <td>1.000000</td>\n",
       "      <td>1.000000</td>\n",
       "      <td>1.000000</td>\n",
       "      <td>1.000000</td>\n",
       "      <td>1.000000</td>\n",
       "      <td>1.000000</td>\n",
       "    </tr>\n",
       "  </tbody>\n",
       "</table>\n",
       "</div>"
      ],
      "text/plain": [
       "          Unnamed: 0         Growth  ...         Fiscal          Other\n",
       "count  195758.000000  195758.000000  ...  195758.000000  195758.000000\n",
       "mean   110054.521532       0.750595  ...       0.017123       0.023197\n",
       "std     63901.404852       0.432670  ...       0.129731       0.150529\n",
       "min         0.000000       0.000000  ...       0.000000       0.000000\n",
       "25%     54702.250000       1.000000  ...       0.000000       0.000000\n",
       "50%    109516.500000       1.000000  ...       0.000000       0.000000\n",
       "75%    165445.500000       1.000000  ...       0.000000       0.000000\n",
       "max    220852.000000       1.000000  ...       1.000000       1.000000\n",
       "\n",
       "[8 rows x 7 columns]"
      ]
     },
     "execution_count": 114,
     "metadata": {
      "tags": []
     },
     "output_type": "execute_result"
    }
   ],
   "source": [
    "train.describe()"
   ]
  },
  {
   "cell_type": "code",
   "execution_count": 0,
   "metadata": {
    "colab": {},
    "colab_type": "code",
    "id": "wAjHtL-A3ueX"
   },
   "outputs": [],
   "source": [
    "x_train,x_test = tt(train,test_size = 0.5,random_state = 4)"
   ]
  },
  {
   "cell_type": "code",
   "execution_count": 0,
   "metadata": {
    "colab": {
     "base_uri": "https://localhost:8080/",
     "height": 121
    },
    "colab_type": "code",
    "id": "E7UG2pkys4K1",
    "outputId": "5f35fbcb-f214-4d37-ac60-7df67bfd1a70"
   },
   "outputs": [
    {
     "name": "stdout",
     "output_type": "stream",
     "text": [
      "... Processing Growth\n",
      "... Processing Inflation\n",
      "... Processing Cad\n",
      "... Processing Money\n",
      "... Processing Fiscal\n",
      "... Processing Other\n"
     ]
    }
   ],
   "source": [
    "for category in categories:\n",
    "    print('... Processing {}'.format(category))\n",
    "    # train the model using X_dtm & y\n",
    "    SVC_pipeline.fit(x_train['Sentence'], x_train[category])\n",
    "    # compute the testing accuracy\n",
    "    prediction = SVC_pipeline.predict(Check1['Sentence'])\n",
    "    Check1[category] = prediction"
   ]
  },
  {
   "cell_type": "code",
   "execution_count": 0,
   "metadata": {
    "colab": {
     "base_uri": "https://localhost:8080/",
     "height": 72
    },
    "colab_type": "code",
    "id": "axn1vRbms0eH",
    "outputId": "b0ba2a82-ecbf-4436-b112-aa35e516c1f5"
   },
   "outputs": [
    {
     "name": "stderr",
     "output_type": "stream",
     "text": [
      "/usr/local/lib/python3.6/dist-packages/ipykernel_launcher.py:1: UserWarning: Boolean Series key will be reindexed to match DataFrame index.\n",
      "  \"\"\"Entry point for launching an IPython kernel.\n"
     ]
    }
   ],
   "source": [
    "Check11 = Check1[Check1['Growth']== 0][Check1['Inflation']==0][Check1['Cad']==0][Check1['Money']==0][Check1['Fiscal']==0][Check1['Other']==0]"
   ]
  },
  {
   "cell_type": "code",
   "execution_count": 0,
   "metadata": {
    "colab": {
     "base_uri": "https://localhost:8080/",
     "height": 300
    },
    "colab_type": "code",
    "id": "URaNa2bK4WJs",
    "outputId": "2c551022-58e0-4ade-b191-7c7243fe2e37"
   },
   "outputs": [
    {
     "data": {
      "text/html": [
       "<div>\n",
       "<style scoped>\n",
       "    .dataframe tbody tr th:only-of-type {\n",
       "        vertical-align: middle;\n",
       "    }\n",
       "\n",
       "    .dataframe tbody tr th {\n",
       "        vertical-align: top;\n",
       "    }\n",
       "\n",
       "    .dataframe thead th {\n",
       "        text-align: right;\n",
       "    }\n",
       "</style>\n",
       "<table border=\"1\" class=\"dataframe\">\n",
       "  <thead>\n",
       "    <tr style=\"text-align: right;\">\n",
       "      <th></th>\n",
       "      <th>Unnamed: 0</th>\n",
       "      <th>Growth</th>\n",
       "      <th>Inflation</th>\n",
       "      <th>Cad</th>\n",
       "      <th>Money</th>\n",
       "      <th>Fiscal</th>\n",
       "      <th>Other</th>\n",
       "    </tr>\n",
       "  </thead>\n",
       "  <tbody>\n",
       "    <tr>\n",
       "      <th>count</th>\n",
       "      <td>10104.000000</td>\n",
       "      <td>10104.0</td>\n",
       "      <td>10104.0</td>\n",
       "      <td>10104.0</td>\n",
       "      <td>10104.0</td>\n",
       "      <td>10104.0</td>\n",
       "      <td>10104.0</td>\n",
       "    </tr>\n",
       "    <tr>\n",
       "      <th>mean</th>\n",
       "      <td>115568.118864</td>\n",
       "      <td>0.0</td>\n",
       "      <td>0.0</td>\n",
       "      <td>0.0</td>\n",
       "      <td>0.0</td>\n",
       "      <td>0.0</td>\n",
       "      <td>0.0</td>\n",
       "    </tr>\n",
       "    <tr>\n",
       "      <th>std</th>\n",
       "      <td>62281.130722</td>\n",
       "      <td>0.0</td>\n",
       "      <td>0.0</td>\n",
       "      <td>0.0</td>\n",
       "      <td>0.0</td>\n",
       "      <td>0.0</td>\n",
       "      <td>0.0</td>\n",
       "    </tr>\n",
       "    <tr>\n",
       "      <th>min</th>\n",
       "      <td>24.000000</td>\n",
       "      <td>0.0</td>\n",
       "      <td>0.0</td>\n",
       "      <td>0.0</td>\n",
       "      <td>0.0</td>\n",
       "      <td>0.0</td>\n",
       "      <td>0.0</td>\n",
       "    </tr>\n",
       "    <tr>\n",
       "      <th>25%</th>\n",
       "      <td>62664.000000</td>\n",
       "      <td>0.0</td>\n",
       "      <td>0.0</td>\n",
       "      <td>0.0</td>\n",
       "      <td>0.0</td>\n",
       "      <td>0.0</td>\n",
       "      <td>0.0</td>\n",
       "    </tr>\n",
       "    <tr>\n",
       "      <th>50%</th>\n",
       "      <td>121571.500000</td>\n",
       "      <td>0.0</td>\n",
       "      <td>0.0</td>\n",
       "      <td>0.0</td>\n",
       "      <td>0.0</td>\n",
       "      <td>0.0</td>\n",
       "      <td>0.0</td>\n",
       "    </tr>\n",
       "    <tr>\n",
       "      <th>75%</th>\n",
       "      <td>168562.500000</td>\n",
       "      <td>0.0</td>\n",
       "      <td>0.0</td>\n",
       "      <td>0.0</td>\n",
       "      <td>0.0</td>\n",
       "      <td>0.0</td>\n",
       "      <td>0.0</td>\n",
       "    </tr>\n",
       "    <tr>\n",
       "      <th>max</th>\n",
       "      <td>220849.000000</td>\n",
       "      <td>0.0</td>\n",
       "      <td>0.0</td>\n",
       "      <td>0.0</td>\n",
       "      <td>0.0</td>\n",
       "      <td>0.0</td>\n",
       "      <td>0.0</td>\n",
       "    </tr>\n",
       "  </tbody>\n",
       "</table>\n",
       "</div>"
      ],
      "text/plain": [
       "          Unnamed: 0   Growth  Inflation      Cad    Money   Fiscal    Other\n",
       "count   10104.000000  10104.0    10104.0  10104.0  10104.0  10104.0  10104.0\n",
       "mean   115568.118864      0.0        0.0      0.0      0.0      0.0      0.0\n",
       "std     62281.130722      0.0        0.0      0.0      0.0      0.0      0.0\n",
       "min        24.000000      0.0        0.0      0.0      0.0      0.0      0.0\n",
       "25%     62664.000000      0.0        0.0      0.0      0.0      0.0      0.0\n",
       "50%    121571.500000      0.0        0.0      0.0      0.0      0.0      0.0\n",
       "75%    168562.500000      0.0        0.0      0.0      0.0      0.0      0.0\n",
       "max    220849.000000      0.0        0.0      0.0      0.0      0.0      0.0"
      ]
     },
     "execution_count": 118,
     "metadata": {
      "tags": []
     },
     "output_type": "execute_result"
    }
   ],
   "source": [
    "Check11.describe()"
   ]
  },
  {
   "cell_type": "code",
   "execution_count": 0,
   "metadata": {
    "colab": {},
    "colab_type": "code",
    "id": "Wd919Y8A4kuN"
   },
   "outputs": [],
   "source": [
    "train1 = pd.concat([Check11,train,Check1])\n",
    "train = train1.drop_duplicates(keep=False)"
   ]
  },
  {
   "cell_type": "code",
   "execution_count": 0,
   "metadata": {
    "colab": {},
    "colab_type": "code",
    "id": "qzCs79Ez5uG1"
   },
   "outputs": [],
   "source": [
    "x_train,x_test = tt(train,test_size = 0.5,random_state = 4)"
   ]
  },
  {
   "cell_type": "code",
   "execution_count": 0,
   "metadata": {
    "colab": {
     "base_uri": "https://localhost:8080/",
     "height": 121
    },
    "colab_type": "code",
    "id": "DXUee89N5xoq",
    "outputId": "0c2d40e7-e900-4d6d-9fce-6cf3fdeec249"
   },
   "outputs": [
    {
     "name": "stdout",
     "output_type": "stream",
     "text": [
      "... Processing Growth\n",
      "... Processing Inflation\n",
      "... Processing Cad\n",
      "... Processing Money\n",
      "... Processing Fiscal\n",
      "... Processing Other\n"
     ]
    }
   ],
   "source": [
    "x_train,x_test = tt(train,test_size = 0.5,random_state = 4)\n",
    "for category in categories:\n",
    "    print('... Processing {}'.format(category))\n",
    "    # train the model using X_dtm & y\n",
    "    SVC_pipeline.fit(x_train['Sentence'], x_train[category])\n",
    "    # compute the testing accuracy\n",
    "    prediction = SVC_pipeline.predict(Check11['Sentence'])\n",
    "    Check11[category] = prediction"
   ]
  },
  {
   "cell_type": "code",
   "execution_count": 0,
   "metadata": {
    "colab": {
     "base_uri": "https://localhost:8080/",
     "height": 72
    },
    "colab_type": "code",
    "id": "gw-YH6pw6BYc",
    "outputId": "cebce4d2-2d6a-4928-f54d-1da53f5af377"
   },
   "outputs": [
    {
     "name": "stderr",
     "output_type": "stream",
     "text": [
      "/usr/local/lib/python3.6/dist-packages/ipykernel_launcher.py:1: UserWarning: Boolean Series key will be reindexed to match DataFrame index.\n",
      "  \"\"\"Entry point for launching an IPython kernel.\n"
     ]
    }
   ],
   "source": [
    "Check111 = Check11[Check11['Growth']== 0][Check11['Inflation']==0][Check11['Cad']==0][Check11['Money']==0][Check11['Fiscal']==0][Check11['Other']==0]"
   ]
  },
  {
   "cell_type": "code",
   "execution_count": 0,
   "metadata": {
    "colab": {
     "base_uri": "https://localhost:8080/",
     "height": 300
    },
    "colab_type": "code",
    "id": "hQDb0smi6CUI",
    "outputId": "82eb0c90-11e3-43f1-cc0d-eefb8b3343f9"
   },
   "outputs": [
    {
     "data": {
      "text/html": [
       "<div>\n",
       "<style scoped>\n",
       "    .dataframe tbody tr th:only-of-type {\n",
       "        vertical-align: middle;\n",
       "    }\n",
       "\n",
       "    .dataframe tbody tr th {\n",
       "        vertical-align: top;\n",
       "    }\n",
       "\n",
       "    .dataframe thead th {\n",
       "        text-align: right;\n",
       "    }\n",
       "</style>\n",
       "<table border=\"1\" class=\"dataframe\">\n",
       "  <thead>\n",
       "    <tr style=\"text-align: right;\">\n",
       "      <th></th>\n",
       "      <th>Unnamed: 0</th>\n",
       "      <th>Growth</th>\n",
       "      <th>Inflation</th>\n",
       "      <th>Cad</th>\n",
       "      <th>Money</th>\n",
       "      <th>Fiscal</th>\n",
       "      <th>Other</th>\n",
       "    </tr>\n",
       "  </thead>\n",
       "  <tbody>\n",
       "    <tr>\n",
       "      <th>count</th>\n",
       "      <td>6771.000000</td>\n",
       "      <td>6771.0</td>\n",
       "      <td>6771.0</td>\n",
       "      <td>6771.0</td>\n",
       "      <td>6771.0</td>\n",
       "      <td>6771.0</td>\n",
       "      <td>6771.0</td>\n",
       "    </tr>\n",
       "    <tr>\n",
       "      <th>mean</th>\n",
       "      <td>114612.731354</td>\n",
       "      <td>0.0</td>\n",
       "      <td>0.0</td>\n",
       "      <td>0.0</td>\n",
       "      <td>0.0</td>\n",
       "      <td>0.0</td>\n",
       "      <td>0.0</td>\n",
       "    </tr>\n",
       "    <tr>\n",
       "      <th>std</th>\n",
       "      <td>62597.833021</td>\n",
       "      <td>0.0</td>\n",
       "      <td>0.0</td>\n",
       "      <td>0.0</td>\n",
       "      <td>0.0</td>\n",
       "      <td>0.0</td>\n",
       "      <td>0.0</td>\n",
       "    </tr>\n",
       "    <tr>\n",
       "      <th>min</th>\n",
       "      <td>24.000000</td>\n",
       "      <td>0.0</td>\n",
       "      <td>0.0</td>\n",
       "      <td>0.0</td>\n",
       "      <td>0.0</td>\n",
       "      <td>0.0</td>\n",
       "      <td>0.0</td>\n",
       "    </tr>\n",
       "    <tr>\n",
       "      <th>25%</th>\n",
       "      <td>61470.500000</td>\n",
       "      <td>0.0</td>\n",
       "      <td>0.0</td>\n",
       "      <td>0.0</td>\n",
       "      <td>0.0</td>\n",
       "      <td>0.0</td>\n",
       "      <td>0.0</td>\n",
       "    </tr>\n",
       "    <tr>\n",
       "      <th>50%</th>\n",
       "      <td>120668.000000</td>\n",
       "      <td>0.0</td>\n",
       "      <td>0.0</td>\n",
       "      <td>0.0</td>\n",
       "      <td>0.0</td>\n",
       "      <td>0.0</td>\n",
       "      <td>0.0</td>\n",
       "    </tr>\n",
       "    <tr>\n",
       "      <th>75%</th>\n",
       "      <td>168218.500000</td>\n",
       "      <td>0.0</td>\n",
       "      <td>0.0</td>\n",
       "      <td>0.0</td>\n",
       "      <td>0.0</td>\n",
       "      <td>0.0</td>\n",
       "      <td>0.0</td>\n",
       "    </tr>\n",
       "    <tr>\n",
       "      <th>max</th>\n",
       "      <td>220849.000000</td>\n",
       "      <td>0.0</td>\n",
       "      <td>0.0</td>\n",
       "      <td>0.0</td>\n",
       "      <td>0.0</td>\n",
       "      <td>0.0</td>\n",
       "      <td>0.0</td>\n",
       "    </tr>\n",
       "  </tbody>\n",
       "</table>\n",
       "</div>"
      ],
      "text/plain": [
       "          Unnamed: 0  Growth  Inflation     Cad   Money  Fiscal   Other\n",
       "count    6771.000000  6771.0     6771.0  6771.0  6771.0  6771.0  6771.0\n",
       "mean   114612.731354     0.0        0.0     0.0     0.0     0.0     0.0\n",
       "std     62597.833021     0.0        0.0     0.0     0.0     0.0     0.0\n",
       "min        24.000000     0.0        0.0     0.0     0.0     0.0     0.0\n",
       "25%     61470.500000     0.0        0.0     0.0     0.0     0.0     0.0\n",
       "50%    120668.000000     0.0        0.0     0.0     0.0     0.0     0.0\n",
       "75%    168218.500000     0.0        0.0     0.0     0.0     0.0     0.0\n",
       "max    220849.000000     0.0        0.0     0.0     0.0     0.0     0.0"
      ]
     },
     "execution_count": 123,
     "metadata": {
      "tags": []
     },
     "output_type": "execute_result"
    }
   ],
   "source": [
    "Check111.describe()"
   ]
  },
  {
   "cell_type": "code",
   "execution_count": 0,
   "metadata": {
    "colab": {},
    "colab_type": "code",
    "id": "Hk3Ui5zF6KLE"
   },
   "outputs": [],
   "source": [
    "train1 = pd.concat([Check111,train,Check11])\n",
    "train = train1.drop_duplicates(keep=False)"
   ]
  },
  {
   "cell_type": "code",
   "execution_count": 0,
   "metadata": {
    "colab": {
     "base_uri": "https://localhost:8080/",
     "height": 121
    },
    "colab_type": "code",
    "id": "QUQiEIvI7kLK",
    "outputId": "18923ed1-a344-4082-e952-520f35b1979d"
   },
   "outputs": [
    {
     "name": "stdout",
     "output_type": "stream",
     "text": [
      "... Processing Growth\n",
      "... Processing Inflation\n",
      "... Processing Cad\n",
      "... Processing Money\n",
      "... Processing Fiscal\n",
      "... Processing Other\n"
     ]
    }
   ],
   "source": [
    "x_train,x_test = tt(train,test_size = 0.5,random_state = 4)\n",
    "for category in categories:\n",
    "    print('... Processing {}'.format(category))\n",
    "    # train the model using X_dtm & y\n",
    "    SVC_pipeline.fit(x_train['Sentence'], x_train[category])\n",
    "    # compute the testing accuracy\n",
    "    prediction = SVC_pipeline.predict(Check111['Sentence'])\n",
    "    Check111[category] = prediction"
   ]
  },
  {
   "cell_type": "code",
   "execution_count": 0,
   "metadata": {
    "colab": {
     "base_uri": "https://localhost:8080/",
     "height": 72
    },
    "colab_type": "code",
    "id": "cgr5yw5o7xpM",
    "outputId": "21408a9c-c581-41df-de96-2772b22900b8"
   },
   "outputs": [
    {
     "name": "stderr",
     "output_type": "stream",
     "text": [
      "/usr/local/lib/python3.6/dist-packages/ipykernel_launcher.py:1: UserWarning: Boolean Series key will be reindexed to match DataFrame index.\n",
      "  \"\"\"Entry point for launching an IPython kernel.\n"
     ]
    }
   ],
   "source": [
    "Check1111 = Check111[Check111['Growth']== 0][Check111['Inflation']==0][Check111['Cad']==0][Check111['Money']==0][Check111['Fiscal']==0][Check111['Other']==0]"
   ]
  },
  {
   "cell_type": "code",
   "execution_count": 0,
   "metadata": {
    "colab": {
     "base_uri": "https://localhost:8080/",
     "height": 300
    },
    "colab_type": "code",
    "id": "LQnjuFkH7z1r",
    "outputId": "b2ceb05f-b6b8-4370-99d3-3889186cf037"
   },
   "outputs": [
    {
     "data": {
      "text/html": [
       "<div>\n",
       "<style scoped>\n",
       "    .dataframe tbody tr th:only-of-type {\n",
       "        vertical-align: middle;\n",
       "    }\n",
       "\n",
       "    .dataframe tbody tr th {\n",
       "        vertical-align: top;\n",
       "    }\n",
       "\n",
       "    .dataframe thead th {\n",
       "        text-align: right;\n",
       "    }\n",
       "</style>\n",
       "<table border=\"1\" class=\"dataframe\">\n",
       "  <thead>\n",
       "    <tr style=\"text-align: right;\">\n",
       "      <th></th>\n",
       "      <th>Unnamed: 0</th>\n",
       "      <th>Growth</th>\n",
       "      <th>Inflation</th>\n",
       "      <th>Cad</th>\n",
       "      <th>Money</th>\n",
       "      <th>Fiscal</th>\n",
       "      <th>Other</th>\n",
       "    </tr>\n",
       "  </thead>\n",
       "  <tbody>\n",
       "    <tr>\n",
       "      <th>count</th>\n",
       "      <td>5475.000000</td>\n",
       "      <td>5475.0</td>\n",
       "      <td>5475.0</td>\n",
       "      <td>5475.0</td>\n",
       "      <td>5475.0</td>\n",
       "      <td>5475.0</td>\n",
       "      <td>5475.0</td>\n",
       "    </tr>\n",
       "    <tr>\n",
       "      <th>mean</th>\n",
       "      <td>113767.193973</td>\n",
       "      <td>0.0</td>\n",
       "      <td>0.0</td>\n",
       "      <td>0.0</td>\n",
       "      <td>0.0</td>\n",
       "      <td>0.0</td>\n",
       "      <td>0.0</td>\n",
       "    </tr>\n",
       "    <tr>\n",
       "      <th>std</th>\n",
       "      <td>62271.146454</td>\n",
       "      <td>0.0</td>\n",
       "      <td>0.0</td>\n",
       "      <td>0.0</td>\n",
       "      <td>0.0</td>\n",
       "      <td>0.0</td>\n",
       "      <td>0.0</td>\n",
       "    </tr>\n",
       "    <tr>\n",
       "      <th>min</th>\n",
       "      <td>24.000000</td>\n",
       "      <td>0.0</td>\n",
       "      <td>0.0</td>\n",
       "      <td>0.0</td>\n",
       "      <td>0.0</td>\n",
       "      <td>0.0</td>\n",
       "      <td>0.0</td>\n",
       "    </tr>\n",
       "    <tr>\n",
       "      <th>25%</th>\n",
       "      <td>61459.500000</td>\n",
       "      <td>0.0</td>\n",
       "      <td>0.0</td>\n",
       "      <td>0.0</td>\n",
       "      <td>0.0</td>\n",
       "      <td>0.0</td>\n",
       "      <td>0.0</td>\n",
       "    </tr>\n",
       "    <tr>\n",
       "      <th>50%</th>\n",
       "      <td>119135.000000</td>\n",
       "      <td>0.0</td>\n",
       "      <td>0.0</td>\n",
       "      <td>0.0</td>\n",
       "      <td>0.0</td>\n",
       "      <td>0.0</td>\n",
       "      <td>0.0</td>\n",
       "    </tr>\n",
       "    <tr>\n",
       "      <th>75%</th>\n",
       "      <td>166385.000000</td>\n",
       "      <td>0.0</td>\n",
       "      <td>0.0</td>\n",
       "      <td>0.0</td>\n",
       "      <td>0.0</td>\n",
       "      <td>0.0</td>\n",
       "      <td>0.0</td>\n",
       "    </tr>\n",
       "    <tr>\n",
       "      <th>max</th>\n",
       "      <td>220849.000000</td>\n",
       "      <td>0.0</td>\n",
       "      <td>0.0</td>\n",
       "      <td>0.0</td>\n",
       "      <td>0.0</td>\n",
       "      <td>0.0</td>\n",
       "      <td>0.0</td>\n",
       "    </tr>\n",
       "  </tbody>\n",
       "</table>\n",
       "</div>"
      ],
      "text/plain": [
       "          Unnamed: 0  Growth  Inflation     Cad   Money  Fiscal   Other\n",
       "count    5475.000000  5475.0     5475.0  5475.0  5475.0  5475.0  5475.0\n",
       "mean   113767.193973     0.0        0.0     0.0     0.0     0.0     0.0\n",
       "std     62271.146454     0.0        0.0     0.0     0.0     0.0     0.0\n",
       "min        24.000000     0.0        0.0     0.0     0.0     0.0     0.0\n",
       "25%     61459.500000     0.0        0.0     0.0     0.0     0.0     0.0\n",
       "50%    119135.000000     0.0        0.0     0.0     0.0     0.0     0.0\n",
       "75%    166385.000000     0.0        0.0     0.0     0.0     0.0     0.0\n",
       "max    220849.000000     0.0        0.0     0.0     0.0     0.0     0.0"
      ]
     },
     "execution_count": 127,
     "metadata": {
      "tags": []
     },
     "output_type": "execute_result"
    }
   ],
   "source": [
    "Check1111.describe()"
   ]
  },
  {
   "cell_type": "code",
   "execution_count": 0,
   "metadata": {
    "colab": {},
    "colab_type": "code",
    "id": "GQAMD25s_v5s"
   },
   "outputs": [],
   "source": [
    "train1 = pd.concat([Check1111,train,Check111])\n",
    "train = train1.drop_duplicates(keep=False)"
   ]
  },
  {
   "cell_type": "code",
   "execution_count": 0,
   "metadata": {
    "colab": {
     "base_uri": "https://localhost:8080/",
     "height": 121
    },
    "colab_type": "code",
    "id": "IWbN2iI3_oJF",
    "outputId": "b9f31cc8-e881-4ef1-81e5-0d9e0136696a"
   },
   "outputs": [
    {
     "name": "stdout",
     "output_type": "stream",
     "text": [
      "... Processing Growth\n",
      "... Processing Inflation\n",
      "... Processing Cad\n",
      "... Processing Money\n",
      "... Processing Fiscal\n",
      "... Processing Other\n"
     ]
    }
   ],
   "source": [
    "x_train,x_test = tt(train,test_size = 0.4,random_state = 5)\n",
    "for category in categories:\n",
    "    print('... Processing {}'.format(category))\n",
    "    # train the model using X_dtm & y\n",
    "    SVC_pipeline.fit(x_train['Sentence'], x_train[category])\n",
    "    # compute the testing accuracy\n",
    "    prediction = SVC_pipeline.predict(Check1111['Sentence'])\n",
    "    Check1111[category] = prediction"
   ]
  },
  {
   "cell_type": "code",
   "execution_count": 0,
   "metadata": {
    "colab": {
     "base_uri": "https://localhost:8080/",
     "height": 72
    },
    "colab_type": "code",
    "id": "aOPggRiFADj1",
    "outputId": "57a5d3b2-3c02-4c70-ed41-1e4d33f81038"
   },
   "outputs": [
    {
     "name": "stderr",
     "output_type": "stream",
     "text": [
      "/usr/local/lib/python3.6/dist-packages/ipykernel_launcher.py:1: UserWarning: Boolean Series key will be reindexed to match DataFrame index.\n",
      "  \"\"\"Entry point for launching an IPython kernel.\n"
     ]
    }
   ],
   "source": [
    "Check11111 = Check1111[Check1111['Growth']== 0][Check1111['Inflation']==0][Check1111['Cad']==0][Check1111['Money']==0][Check1111['Fiscal']==0][Check1111['Other']==0]"
   ]
  },
  {
   "cell_type": "code",
   "execution_count": 0,
   "metadata": {
    "colab": {
     "base_uri": "https://localhost:8080/",
     "height": 300
    },
    "colab_type": "code",
    "id": "eBrIq5NfAI9V",
    "outputId": "d8232264-4616-4825-8f9c-59e47f09cb29"
   },
   "outputs": [
    {
     "data": {
      "text/html": [
       "<div>\n",
       "<style scoped>\n",
       "    .dataframe tbody tr th:only-of-type {\n",
       "        vertical-align: middle;\n",
       "    }\n",
       "\n",
       "    .dataframe tbody tr th {\n",
       "        vertical-align: top;\n",
       "    }\n",
       "\n",
       "    .dataframe thead th {\n",
       "        text-align: right;\n",
       "    }\n",
       "</style>\n",
       "<table border=\"1\" class=\"dataframe\">\n",
       "  <thead>\n",
       "    <tr style=\"text-align: right;\">\n",
       "      <th></th>\n",
       "      <th>Unnamed: 0</th>\n",
       "      <th>Growth</th>\n",
       "      <th>Inflation</th>\n",
       "      <th>Cad</th>\n",
       "      <th>Money</th>\n",
       "      <th>Fiscal</th>\n",
       "      <th>Other</th>\n",
       "    </tr>\n",
       "  </thead>\n",
       "  <tbody>\n",
       "    <tr>\n",
       "      <th>count</th>\n",
       "      <td>4225.000000</td>\n",
       "      <td>4225.0</td>\n",
       "      <td>4225.0</td>\n",
       "      <td>4225.0</td>\n",
       "      <td>4225.0</td>\n",
       "      <td>4225.0</td>\n",
       "      <td>4225.0</td>\n",
       "    </tr>\n",
       "    <tr>\n",
       "      <th>mean</th>\n",
       "      <td>113050.889941</td>\n",
       "      <td>0.0</td>\n",
       "      <td>0.0</td>\n",
       "      <td>0.0</td>\n",
       "      <td>0.0</td>\n",
       "      <td>0.0</td>\n",
       "      <td>0.0</td>\n",
       "    </tr>\n",
       "    <tr>\n",
       "      <th>std</th>\n",
       "      <td>61702.225308</td>\n",
       "      <td>0.0</td>\n",
       "      <td>0.0</td>\n",
       "      <td>0.0</td>\n",
       "      <td>0.0</td>\n",
       "      <td>0.0</td>\n",
       "      <td>0.0</td>\n",
       "    </tr>\n",
       "    <tr>\n",
       "      <th>min</th>\n",
       "      <td>24.000000</td>\n",
       "      <td>0.0</td>\n",
       "      <td>0.0</td>\n",
       "      <td>0.0</td>\n",
       "      <td>0.0</td>\n",
       "      <td>0.0</td>\n",
       "      <td>0.0</td>\n",
       "    </tr>\n",
       "    <tr>\n",
       "      <th>25%</th>\n",
       "      <td>61077.000000</td>\n",
       "      <td>0.0</td>\n",
       "      <td>0.0</td>\n",
       "      <td>0.0</td>\n",
       "      <td>0.0</td>\n",
       "      <td>0.0</td>\n",
       "      <td>0.0</td>\n",
       "    </tr>\n",
       "    <tr>\n",
       "      <th>50%</th>\n",
       "      <td>118479.000000</td>\n",
       "      <td>0.0</td>\n",
       "      <td>0.0</td>\n",
       "      <td>0.0</td>\n",
       "      <td>0.0</td>\n",
       "      <td>0.0</td>\n",
       "      <td>0.0</td>\n",
       "    </tr>\n",
       "    <tr>\n",
       "      <th>75%</th>\n",
       "      <td>163889.000000</td>\n",
       "      <td>0.0</td>\n",
       "      <td>0.0</td>\n",
       "      <td>0.0</td>\n",
       "      <td>0.0</td>\n",
       "      <td>0.0</td>\n",
       "      <td>0.0</td>\n",
       "    </tr>\n",
       "    <tr>\n",
       "      <th>max</th>\n",
       "      <td>220765.000000</td>\n",
       "      <td>0.0</td>\n",
       "      <td>0.0</td>\n",
       "      <td>0.0</td>\n",
       "      <td>0.0</td>\n",
       "      <td>0.0</td>\n",
       "      <td>0.0</td>\n",
       "    </tr>\n",
       "  </tbody>\n",
       "</table>\n",
       "</div>"
      ],
      "text/plain": [
       "          Unnamed: 0  Growth  Inflation     Cad   Money  Fiscal   Other\n",
       "count    4225.000000  4225.0     4225.0  4225.0  4225.0  4225.0  4225.0\n",
       "mean   113050.889941     0.0        0.0     0.0     0.0     0.0     0.0\n",
       "std     61702.225308     0.0        0.0     0.0     0.0     0.0     0.0\n",
       "min        24.000000     0.0        0.0     0.0     0.0     0.0     0.0\n",
       "25%     61077.000000     0.0        0.0     0.0     0.0     0.0     0.0\n",
       "50%    118479.000000     0.0        0.0     0.0     0.0     0.0     0.0\n",
       "75%    163889.000000     0.0        0.0     0.0     0.0     0.0     0.0\n",
       "max    220765.000000     0.0        0.0     0.0     0.0     0.0     0.0"
      ]
     },
     "execution_count": 131,
     "metadata": {
      "tags": []
     },
     "output_type": "execute_result"
    }
   ],
   "source": [
    "Check11111.describe()"
   ]
  },
  {
   "cell_type": "code",
   "execution_count": 0,
   "metadata": {
    "colab": {},
    "colab_type": "code",
    "id": "WZgjxlwdAUX6"
   },
   "outputs": [],
   "source": [
    "train1 = pd.concat([Check11111,train,Check1111])\n",
    "train = train1.drop_duplicates(keep=False)"
   ]
  },
  {
   "cell_type": "code",
   "execution_count": 0,
   "metadata": {
    "colab": {},
    "colab_type": "code",
    "id": "wDSsDWf1eKtM"
   },
   "outputs": [],
   "source": [
    "train.to_csv(\"Out.csv\")"
   ]
  },
  {
   "cell_type": "markdown",
   "metadata": {
    "colab_type": "text",
    "id": "vc-ruktJs1P6"
   },
   "source": [
    "#checking\n"
   ]
  },
  {
   "cell_type": "code",
   "execution_count": 0,
   "metadata": {
    "colab": {},
    "colab_type": "code",
    "id": "KGoSBa_PChct"
   },
   "outputs": [],
   "source": [
    "test = Check11111"
   ]
  },
  {
   "cell_type": "code",
   "execution_count": 0,
   "metadata": {
    "colab": {
     "base_uri": "https://localhost:8080/",
     "height": 1000
    },
    "colab_type": "code",
    "id": "WWRyTqUus5dK",
    "outputId": "105540ee-8dd1-4d05-ad5e-e326f262b88d"
   },
   "outputs": [
    {
     "name": "stdout",
     "output_type": "stream",
     "text": [
      "0\n",
      "... Processing Growth\n",
      "... Processing Inflation\n",
      "... Processing Cad\n",
      "... Processing Money\n",
      "... Processing Fiscal\n",
      "... Processing Other\n",
      "1\n",
      "... Processing Growth\n",
      "... Processing Inflation\n",
      "... Processing Cad\n",
      "... Processing Money\n",
      "... Processing Fiscal\n",
      "... Processing Other\n",
      "2\n",
      "... Processing Growth\n",
      "... Processing Inflation\n",
      "... Processing Cad\n",
      "... Processing Money\n",
      "... Processing Fiscal\n",
      "... Processing Other\n",
      "3\n",
      "... Processing Growth\n",
      "... Processing Inflation\n",
      "... Processing Cad\n",
      "... Processing Money\n",
      "... Processing Fiscal\n",
      "... Processing Other\n",
      "4\n",
      "... Processing Growth\n",
      "... Processing Inflation\n",
      "... Processing Cad\n",
      "... Processing Money\n",
      "... Processing Fiscal\n",
      "... Processing Other\n",
      "5\n",
      "... Processing Growth\n",
      "... Processing Inflation\n",
      "... Processing Cad\n",
      "... Processing Money\n",
      "... Processing Fiscal\n",
      "... Processing Other\n",
      "6\n",
      "... Processing Growth\n",
      "... Processing Inflation\n",
      "... Processing Cad\n",
      "... Processing Money\n",
      "... Processing Fiscal\n",
      "... Processing Other\n",
      "7\n",
      "... Processing Growth\n",
      "... Processing Inflation\n",
      "... Processing Cad\n",
      "... Processing Money\n",
      "... Processing Fiscal\n",
      "... Processing Other\n",
      "8\n",
      "... Processing Growth\n",
      "... Processing Inflation\n",
      "... Processing Cad\n",
      "... Processing Money\n",
      "... Processing Fiscal\n",
      "... Processing Other\n",
      "9\n",
      "... Processing Growth\n",
      "... Processing Inflation\n",
      "... Processing Cad\n",
      "... Processing Money\n",
      "... Processing Fiscal\n",
      "... Processing Other\n"
     ]
    }
   ],
   "source": [
    "for i in range(10):\n",
    "    print(i)\n",
    "    x_train,x_test = tt(train,test_size = 0.5,random_state = i)\n",
    "    for category in categories:\n",
    "        print('... Processing {}'.format(category))\n",
    "        # train the model using X_dtm & y\n",
    "        SVC_pipeline.fit(x_train['Sentence'], x_train['Growth'])\n",
    "        # compute the testing accuracy\n",
    "        prediction = SVC_pipeline.predict(test['Sentence'])\n",
    "        test[category] = prediction\n",
    "    anomoly = test[test['Growth']== 0][test['Inflation']==0][test['Cad']==0][test['Money']==0][test['Fiscal']==0][test['Other']==0]\n",
    "    test = anomoly\n",
    "    train1 = pd.concat([test,train,anomoly])\n",
    "    train = train1.drop_duplicates(keep=False)"
   ]
  },
  {
   "cell_type": "code",
   "execution_count": 0,
   "metadata": {
    "colab": {
     "base_uri": "https://localhost:8080/",
     "height": 320
    },
    "colab_type": "code",
    "id": "muulS46pDpt_",
    "outputId": "d25f7e1d-c501-4d58-d3be-dbbc03aa663a"
   },
   "outputs": [
    {
     "data": {
      "text/html": [
       "<div>\n",
       "<style scoped>\n",
       "    .dataframe tbody tr th:only-of-type {\n",
       "        vertical-align: middle;\n",
       "    }\n",
       "\n",
       "    .dataframe tbody tr th {\n",
       "        vertical-align: top;\n",
       "    }\n",
       "\n",
       "    .dataframe thead th {\n",
       "        text-align: right;\n",
       "    }\n",
       "</style>\n",
       "<table border=\"1\" class=\"dataframe\">\n",
       "  <thead>\n",
       "    <tr style=\"text-align: right;\">\n",
       "      <th></th>\n",
       "      <th>Unnamed: 0</th>\n",
       "      <th>Growth</th>\n",
       "      <th>Inflation</th>\n",
       "      <th>Cad</th>\n",
       "      <th>Money</th>\n",
       "      <th>Fiscal</th>\n",
       "      <th>Other</th>\n",
       "    </tr>\n",
       "  </thead>\n",
       "  <tbody>\n",
       "    <tr>\n",
       "      <th>count</th>\n",
       "      <td>219233.000000</td>\n",
       "      <td>219233.000000</td>\n",
       "      <td>219233.000000</td>\n",
       "      <td>219233.000000</td>\n",
       "      <td>219233.000000</td>\n",
       "      <td>219233.000000</td>\n",
       "      <td>219233.000000</td>\n",
       "    </tr>\n",
       "    <tr>\n",
       "      <th>mean</th>\n",
       "      <td>110384.700013</td>\n",
       "      <td>0.743907</td>\n",
       "      <td>0.150073</td>\n",
       "      <td>0.069337</td>\n",
       "      <td>0.050230</td>\n",
       "      <td>0.016667</td>\n",
       "      <td>0.023664</td>\n",
       "    </tr>\n",
       "    <tr>\n",
       "      <th>std</th>\n",
       "      <td>63759.941782</td>\n",
       "      <td>0.436475</td>\n",
       "      <td>0.357144</td>\n",
       "      <td>0.254027</td>\n",
       "      <td>0.218419</td>\n",
       "      <td>0.128021</td>\n",
       "      <td>0.152001</td>\n",
       "    </tr>\n",
       "    <tr>\n",
       "      <th>min</th>\n",
       "      <td>0.000000</td>\n",
       "      <td>0.000000</td>\n",
       "      <td>0.000000</td>\n",
       "      <td>0.000000</td>\n",
       "      <td>0.000000</td>\n",
       "      <td>0.000000</td>\n",
       "      <td>0.000000</td>\n",
       "    </tr>\n",
       "    <tr>\n",
       "      <th>25%</th>\n",
       "      <td>55170.000000</td>\n",
       "      <td>0.000000</td>\n",
       "      <td>0.000000</td>\n",
       "      <td>0.000000</td>\n",
       "      <td>0.000000</td>\n",
       "      <td>0.000000</td>\n",
       "      <td>0.000000</td>\n",
       "    </tr>\n",
       "    <tr>\n",
       "      <th>50%</th>\n",
       "      <td>110307.000000</td>\n",
       "      <td>1.000000</td>\n",
       "      <td>0.000000</td>\n",
       "      <td>0.000000</td>\n",
       "      <td>0.000000</td>\n",
       "      <td>0.000000</td>\n",
       "      <td>0.000000</td>\n",
       "    </tr>\n",
       "    <tr>\n",
       "      <th>75%</th>\n",
       "      <td>165615.000000</td>\n",
       "      <td>1.000000</td>\n",
       "      <td>0.000000</td>\n",
       "      <td>0.000000</td>\n",
       "      <td>0.000000</td>\n",
       "      <td>0.000000</td>\n",
       "      <td>0.000000</td>\n",
       "    </tr>\n",
       "    <tr>\n",
       "      <th>max</th>\n",
       "      <td>220852.000000</td>\n",
       "      <td>1.000000</td>\n",
       "      <td>1.000000</td>\n",
       "      <td>1.000000</td>\n",
       "      <td>1.000000</td>\n",
       "      <td>1.000000</td>\n",
       "      <td>1.000000</td>\n",
       "    </tr>\n",
       "  </tbody>\n",
       "</table>\n",
       "</div>"
      ],
      "text/plain": [
       "          Unnamed: 0         Growth  ...         Fiscal          Other\n",
       "count  219233.000000  219233.000000  ...  219233.000000  219233.000000\n",
       "mean   110384.700013       0.743907  ...       0.016667       0.023664\n",
       "std     63759.941782       0.436475  ...       0.128021       0.152001\n",
       "min         0.000000       0.000000  ...       0.000000       0.000000\n",
       "25%     55170.000000       0.000000  ...       0.000000       0.000000\n",
       "50%    110307.000000       1.000000  ...       0.000000       0.000000\n",
       "75%    165615.000000       1.000000  ...       0.000000       0.000000\n",
       "max    220852.000000       1.000000  ...       1.000000       1.000000\n",
       "\n",
       "[8 rows x 7 columns]"
      ]
     },
     "execution_count": 70,
     "metadata": {
      "tags": []
     },
     "output_type": "execute_result"
    }
   ],
   "source": [
    "train.describe()"
   ]
  },
  {
   "cell_type": "code",
   "execution_count": 0,
   "metadata": {
    "colab": {
     "base_uri": "https://localhost:8080/",
     "height": 300
    },
    "colab_type": "code",
    "id": "SXSTiwkpqnYp",
    "outputId": "be1c6e42-4053-4fdb-b06c-396241e7afe6"
   },
   "outputs": [
    {
     "data": {
      "text/html": [
       "<div>\n",
       "<style scoped>\n",
       "    .dataframe tbody tr th:only-of-type {\n",
       "        vertical-align: middle;\n",
       "    }\n",
       "\n",
       "    .dataframe tbody tr th {\n",
       "        vertical-align: top;\n",
       "    }\n",
       "\n",
       "    .dataframe thead th {\n",
       "        text-align: right;\n",
       "    }\n",
       "</style>\n",
       "<table border=\"1\" class=\"dataframe\">\n",
       "  <thead>\n",
       "    <tr style=\"text-align: right;\">\n",
       "      <th></th>\n",
       "      <th>Unnamed: 0</th>\n",
       "      <th>Growth</th>\n",
       "      <th>Inflation</th>\n",
       "      <th>Cad</th>\n",
       "      <th>Money</th>\n",
       "      <th>Fiscal</th>\n",
       "      <th>Other</th>\n",
       "    </tr>\n",
       "  </thead>\n",
       "  <tbody>\n",
       "    <tr>\n",
       "      <th>count</th>\n",
       "      <td>2796.000000</td>\n",
       "      <td>2796.0</td>\n",
       "      <td>2796.0</td>\n",
       "      <td>2796.0</td>\n",
       "      <td>2796.0</td>\n",
       "      <td>2796.0</td>\n",
       "      <td>2796.0</td>\n",
       "    </tr>\n",
       "    <tr>\n",
       "      <th>mean</th>\n",
       "      <td>113590.826538</td>\n",
       "      <td>0.0</td>\n",
       "      <td>0.0</td>\n",
       "      <td>0.0</td>\n",
       "      <td>0.0</td>\n",
       "      <td>0.0</td>\n",
       "      <td>0.0</td>\n",
       "    </tr>\n",
       "    <tr>\n",
       "      <th>std</th>\n",
       "      <td>62177.845272</td>\n",
       "      <td>0.0</td>\n",
       "      <td>0.0</td>\n",
       "      <td>0.0</td>\n",
       "      <td>0.0</td>\n",
       "      <td>0.0</td>\n",
       "      <td>0.0</td>\n",
       "    </tr>\n",
       "    <tr>\n",
       "      <th>min</th>\n",
       "      <td>84.000000</td>\n",
       "      <td>0.0</td>\n",
       "      <td>0.0</td>\n",
       "      <td>0.0</td>\n",
       "      <td>0.0</td>\n",
       "      <td>0.0</td>\n",
       "      <td>0.0</td>\n",
       "    </tr>\n",
       "    <tr>\n",
       "      <th>25%</th>\n",
       "      <td>61212.750000</td>\n",
       "      <td>0.0</td>\n",
       "      <td>0.0</td>\n",
       "      <td>0.0</td>\n",
       "      <td>0.0</td>\n",
       "      <td>0.0</td>\n",
       "      <td>0.0</td>\n",
       "    </tr>\n",
       "    <tr>\n",
       "      <th>50%</th>\n",
       "      <td>117528.500000</td>\n",
       "      <td>0.0</td>\n",
       "      <td>0.0</td>\n",
       "      <td>0.0</td>\n",
       "      <td>0.0</td>\n",
       "      <td>0.0</td>\n",
       "      <td>0.0</td>\n",
       "    </tr>\n",
       "    <tr>\n",
       "      <th>75%</th>\n",
       "      <td>166869.500000</td>\n",
       "      <td>0.0</td>\n",
       "      <td>0.0</td>\n",
       "      <td>0.0</td>\n",
       "      <td>0.0</td>\n",
       "      <td>0.0</td>\n",
       "      <td>0.0</td>\n",
       "    </tr>\n",
       "    <tr>\n",
       "      <th>max</th>\n",
       "      <td>220775.000000</td>\n",
       "      <td>0.0</td>\n",
       "      <td>0.0</td>\n",
       "      <td>0.0</td>\n",
       "      <td>0.0</td>\n",
       "      <td>0.0</td>\n",
       "      <td>0.0</td>\n",
       "    </tr>\n",
       "  </tbody>\n",
       "</table>\n",
       "</div>"
      ],
      "text/plain": [
       "          Unnamed: 0  Growth  Inflation     Cad   Money  Fiscal   Other\n",
       "count    2796.000000  2796.0     2796.0  2796.0  2796.0  2796.0  2796.0\n",
       "mean   113590.826538     0.0        0.0     0.0     0.0     0.0     0.0\n",
       "std     62177.845272     0.0        0.0     0.0     0.0     0.0     0.0\n",
       "min        84.000000     0.0        0.0     0.0     0.0     0.0     0.0\n",
       "25%     61212.750000     0.0        0.0     0.0     0.0     0.0     0.0\n",
       "50%    117528.500000     0.0        0.0     0.0     0.0     0.0     0.0\n",
       "75%    166869.500000     0.0        0.0     0.0     0.0     0.0     0.0\n",
       "max    220775.000000     0.0        0.0     0.0     0.0     0.0     0.0"
      ]
     },
     "execution_count": 72,
     "metadata": {
      "tags": []
     },
     "output_type": "execute_result"
    }
   ],
   "source": [
    "test.describe()"
   ]
  },
  {
   "cell_type": "code",
   "execution_count": 0,
   "metadata": {
    "colab": {},
    "colab_type": "code",
    "id": "1gXU4I6stfMu"
   },
   "outputs": [],
   "source": []
  },
  {
   "cell_type": "code",
   "execution_count": 0,
   "metadata": {
    "colab": {},
    "colab_type": "code",
    "id": "tlb9_CNMtgse"
   },
   "outputs": [],
   "source": [
    "train2 = pd.concat([df,train])"
   ]
  },
  {
   "cell_type": "code",
   "execution_count": 0,
   "metadata": {
    "colab": {},
    "colab_type": "code",
    "id": "0GBfcXagtmoI"
   },
   "outputs": [],
   "source": [
    "train2 = train2.drop_duplicates(keep=False)"
   ]
  },
  {
   "cell_type": "code",
   "execution_count": 0,
   "metadata": {
    "colab": {
     "base_uri": "https://localhost:8080/",
     "height": 320
    },
    "colab_type": "code",
    "id": "SbssUP3Wtstn",
    "outputId": "43cb1165-f744-495e-8286-6c771024b841"
   },
   "outputs": [
    {
     "data": {
      "text/html": [
       "<div>\n",
       "<style scoped>\n",
       "    .dataframe tbody tr th:only-of-type {\n",
       "        vertical-align: middle;\n",
       "    }\n",
       "\n",
       "    .dataframe tbody tr th {\n",
       "        vertical-align: top;\n",
       "    }\n",
       "\n",
       "    .dataframe thead th {\n",
       "        text-align: right;\n",
       "    }\n",
       "</style>\n",
       "<table border=\"1\" class=\"dataframe\">\n",
       "  <thead>\n",
       "    <tr style=\"text-align: right;\">\n",
       "      <th></th>\n",
       "      <th>Unnamed: 0</th>\n",
       "      <th>Growth</th>\n",
       "      <th>Inflation</th>\n",
       "      <th>Cad</th>\n",
       "      <th>Money</th>\n",
       "      <th>Fiscal</th>\n",
       "      <th>Other</th>\n",
       "    </tr>\n",
       "  </thead>\n",
       "  <tbody>\n",
       "    <tr>\n",
       "      <th>count</th>\n",
       "      <td>373513.000000</td>\n",
       "      <td>373513.000000</td>\n",
       "      <td>373513.000000</td>\n",
       "      <td>373513.000000</td>\n",
       "      <td>373513.000000</td>\n",
       "      <td>373513.000000</td>\n",
       "      <td>373513.000000</td>\n",
       "    </tr>\n",
       "    <tr>\n",
       "      <th>mean</th>\n",
       "      <td>109234.044371</td>\n",
       "      <td>0.389732</td>\n",
       "      <td>0.053401</td>\n",
       "      <td>0.028318</td>\n",
       "      <td>0.021341</td>\n",
       "      <td>0.005207</td>\n",
       "      <td>0.010383</td>\n",
       "    </tr>\n",
       "    <tr>\n",
       "      <th>std</th>\n",
       "      <td>63928.644515</td>\n",
       "      <td>0.487690</td>\n",
       "      <td>0.224832</td>\n",
       "      <td>0.165879</td>\n",
       "      <td>0.144517</td>\n",
       "      <td>0.071974</td>\n",
       "      <td>0.101364</td>\n",
       "    </tr>\n",
       "    <tr>\n",
       "      <th>min</th>\n",
       "      <td>0.000000</td>\n",
       "      <td>0.000000</td>\n",
       "      <td>0.000000</td>\n",
       "      <td>0.000000</td>\n",
       "      <td>0.000000</td>\n",
       "      <td>0.000000</td>\n",
       "      <td>0.000000</td>\n",
       "    </tr>\n",
       "    <tr>\n",
       "      <th>25%</th>\n",
       "      <td>53869.000000</td>\n",
       "      <td>0.000000</td>\n",
       "      <td>0.000000</td>\n",
       "      <td>0.000000</td>\n",
       "      <td>0.000000</td>\n",
       "      <td>0.000000</td>\n",
       "      <td>0.000000</td>\n",
       "    </tr>\n",
       "    <tr>\n",
       "      <th>50%</th>\n",
       "      <td>107649.000000</td>\n",
       "      <td>0.000000</td>\n",
       "      <td>0.000000</td>\n",
       "      <td>0.000000</td>\n",
       "      <td>0.000000</td>\n",
       "      <td>0.000000</td>\n",
       "      <td>0.000000</td>\n",
       "    </tr>\n",
       "    <tr>\n",
       "      <th>75%</th>\n",
       "      <td>164715.000000</td>\n",
       "      <td>1.000000</td>\n",
       "      <td>0.000000</td>\n",
       "      <td>0.000000</td>\n",
       "      <td>0.000000</td>\n",
       "      <td>0.000000</td>\n",
       "      <td>0.000000</td>\n",
       "    </tr>\n",
       "    <tr>\n",
       "      <th>max</th>\n",
       "      <td>220852.000000</td>\n",
       "      <td>1.000000</td>\n",
       "      <td>1.000000</td>\n",
       "      <td>1.000000</td>\n",
       "      <td>1.000000</td>\n",
       "      <td>1.000000</td>\n",
       "      <td>1.000000</td>\n",
       "    </tr>\n",
       "  </tbody>\n",
       "</table>\n",
       "</div>"
      ],
      "text/plain": [
       "          Unnamed: 0         Growth  ...         Fiscal          Other\n",
       "count  373513.000000  373513.000000  ...  373513.000000  373513.000000\n",
       "mean   109234.044371       0.389732  ...       0.005207       0.010383\n",
       "std     63928.644515       0.487690  ...       0.071974       0.101364\n",
       "min         0.000000       0.000000  ...       0.000000       0.000000\n",
       "25%     53869.000000       0.000000  ...       0.000000       0.000000\n",
       "50%    107649.000000       0.000000  ...       0.000000       0.000000\n",
       "75%    164715.000000       1.000000  ...       0.000000       0.000000\n",
       "max    220852.000000       1.000000  ...       1.000000       1.000000\n",
       "\n",
       "[8 rows x 7 columns]"
      ]
     },
     "execution_count": 138,
     "metadata": {
      "tags": []
     },
     "output_type": "execute_result"
    }
   ],
   "source": [
    "train2.describe()"
   ]
  },
  {
   "cell_type": "code",
   "execution_count": 0,
   "metadata": {
    "colab": {},
    "colab_type": "code",
    "id": "kadrDQcepnkN"
   },
   "outputs": [],
   "source": [
    "train = pd.concat([train,anomoly])"
   ]
  },
  {
   "cell_type": "code",
   "execution_count": 0,
   "metadata": {
    "colab": {
     "base_uri": "https://localhost:8080/",
     "height": 52
    },
    "colab_type": "code",
    "id": "7caAGh-J7_bk",
    "outputId": "ec100725-43f4-46d5-af8d-5a068ac95af8"
   },
   "outputs": [
    {
     "name": "stdout",
     "output_type": "stream",
     "text": [
      "0\n",
      "1\n"
     ]
    }
   ],
   "source": [
    "acc = {}\n",
    "for i in range(2):\n",
    "  print(i)\n",
    "  x_train,x_test = tt(train,test_size = 0.5,random_state = i)\n",
    "  for category in categories:\n",
    "      print('... Processing {}'.format(category))\n",
    "      # train the model using X_dtm & y\n",
    "      SVC_pipeline.fit(x_train['Sentence'], x_train['category'])\n",
    "      # compute the testing accuracy\n",
    "\n",
    "      # test[category] = prediction\n",
    "  # anomoly = test[test['Growth']== 0][test['Inflation']==0][test['Cad']==0][test['Money']==0][test['Fiscal']==0][test['Other']==0]\n",
    "  # test = anomoly\n",
    "  # train1 = pd.concat([test,train,anomoly])\n",
    "  # train = train1.drop_duplicates(keep=False)\n",
    "\n"
   ]
  },
  {
   "cell_type": "code",
   "execution_count": 0,
   "metadata": {
    "colab": {
     "base_uri": "https://localhost:8080/",
     "height": 34
    },
    "colab_type": "code",
    "id": "YZr1fDXk9Ft4",
    "outputId": "ae57e492-94a4-449f-bf8d-4ace438a5c82"
   },
   "outputs": [
    {
     "data": {
      "text/plain": [
       "{1: 'epoch', 'Score': 0.9539698868418591}"
      ]
     },
     "execution_count": 649,
     "metadata": {
      "tags": []
     },
     "output_type": "execute_result"
    }
   ],
   "source": [
    "acc"
   ]
  },
  {
   "cell_type": "code",
   "execution_count": 0,
   "metadata": {
    "colab": {},
    "colab_type": "code",
    "id": "kSYyYCSyx1KK"
   },
   "outputs": [],
   "source": []
  },
  {
   "cell_type": "markdown",
   "metadata": {
    "colab_type": "text",
    "id": "q5CBIoZy9fM0"
   },
   "source": [
    "# NLP Model\n",
    "\n"
   ]
  },
  {
   "cell_type": "code",
   "execution_count": 0,
   "metadata": {
    "colab": {},
    "colab_type": "code",
    "id": "tWb33W3M-Hn6"
   },
   "outputs": [],
   "source": [
    "vect = CountVectorizer()"
   ]
  },
  {
   "cell_type": "code",
   "execution_count": 0,
   "metadata": {
    "colab": {},
    "colab_type": "code",
    "id": "NaAHEfMv-RDP"
   },
   "outputs": [],
   "source": [
    "vect.fit(train['Sentence'])\n",
    "counts= vect.transform(train['Sentence'])"
   ]
  },
  {
   "cell_type": "code",
   "execution_count": 0,
   "metadata": {
    "colab": {},
    "colab_type": "code",
    "id": "VUegX9gR-xsh"
   },
   "outputs": [],
   "source": [
    "tf = TfidfTransformer()\n",
    "train1 = tf.fit_transform(counts)"
   ]
  },
  {
   "cell_type": "markdown",
   "metadata": {
    "colab_type": "text",
    "id": "WbrU7pcNibLZ"
   },
   "source": []
  },
  {
   "cell_type": "code",
   "execution_count": 0,
   "metadata": {
    "colab": {
     "base_uri": "https://localhost:8080/",
     "height": 34
    },
    "colab_type": "code",
    "id": "_Ln8kOn5CIjf",
    "outputId": "5f4d66c3-724f-4098-9da8-77d5fd892455"
   },
   "outputs": [
    {
     "data": {
      "text/plain": [
       "43322"
      ]
     },
     "execution_count": 331,
     "metadata": {
      "tags": []
     },
     "output_type": "execute_result"
    }
   ],
   "source": [
    "train1.shape[1]"
   ]
  },
  {
   "cell_type": "code",
   "execution_count": 0,
   "metadata": {
    "colab": {},
    "colab_type": "code",
    "id": "hdXXYU6hGGYh"
   },
   "outputs": [],
   "source": [
    "x_train,x_test,y_train,y_test=tt(train1,np.asarray(train['Growth']),test_size = 0.3,stratify = np.asarray(train['Growth']),random_state = 1)\n"
   ]
  },
  {
   "cell_type": "code",
   "execution_count": 0,
   "metadata": {
    "colab": {},
    "colab_type": "code",
    "id": "g7T-b6-9NUUm"
   },
   "outputs": [],
   "source": [
    "modl=BernoulliNB().fit(x_train,y_train)"
   ]
  },
  {
   "cell_type": "code",
   "execution_count": 0,
   "metadata": {
    "colab": {},
    "colab_type": "code",
    "id": "6wvKfyZEOMvW"
   },
   "outputs": [],
   "source": [
    "from sklearn.metrics import accuracy_score"
   ]
  },
  {
   "cell_type": "code",
   "execution_count": 0,
   "metadata": {
    "colab": {},
    "colab_type": "code",
    "id": "uNDKGYXJN2YX"
   },
   "outputs": [],
   "source": [
    "acc = modl.predict(x_test)\n"
   ]
  },
  {
   "cell_type": "code",
   "execution_count": 0,
   "metadata": {
    "colab": {
     "base_uri": "https://localhost:8080/",
     "height": 34
    },
    "colab_type": "code",
    "id": "VTWLcz10OPhq",
    "outputId": "26036bcd-11ce-43c7-c63c-b0332d7c1352"
   },
   "outputs": [
    {
     "data": {
      "text/plain": [
       "0.8827938027459378"
      ]
     },
     "execution_count": 336,
     "metadata": {
      "tags": []
     },
     "output_type": "execute_result"
    }
   ],
   "source": [
    "\n",
    "accuracy_score(acc,y_test)"
   ]
  },
  {
   "cell_type": "code",
   "execution_count": 0,
   "metadata": {
    "colab": {
     "base_uri": "https://localhost:8080/",
     "height": 34
    },
    "colab_type": "code",
    "id": "TTF4kje-Q-Za",
    "outputId": "836f0734-08cc-43ac-febe-41b5cb71149c"
   },
   "outputs": [
    {
     "data": {
      "text/plain": [
       "0.9286906411386825"
      ]
     },
     "execution_count": 337,
     "metadata": {
      "tags": []
     },
     "output_type": "execute_result"
    }
   ],
   "source": [
    "x_train,x_test,y_train,y_test=tt(train1,np.asarray(train['Inflation']),test_size = 0.3,stratify = np.asarray(train['Growth']),random_state = 1)\n",
    "modl=BernoulliNB().fit(x_train,y_train)\n",
    "acc = modl.predict(x_test)\n",
    "accuracy_score(acc,y_test)\n"
   ]
  },
  {
   "cell_type": "code",
   "execution_count": 0,
   "metadata": {
    "colab": {
     "base_uri": "https://localhost:8080/",
     "height": 34
    },
    "colab_type": "code",
    "id": "xXG1HW7iRCJU",
    "outputId": "06162214-483d-483b-d283-a3b1f91ddb0e"
   },
   "outputs": [
    {
     "data": {
      "text/plain": [
       "0.944435697191082"
      ]
     },
     "execution_count": 338,
     "metadata": {
      "tags": []
     },
     "output_type": "execute_result"
    }
   ],
   "source": [
    "x_train,x_test,y_train,y_test=tt(train1,np.asarray(train['Cad']),test_size = 0.3,stratify = np.asarray(train['Growth']),random_state = 1)\n",
    "modl=BernoulliNB().fit(x_train,y_train)\n",
    "acc = modl.predict(x_test)\n",
    "accuracy_score(acc,y_test)"
   ]
  },
  {
   "cell_type": "code",
   "execution_count": 0,
   "metadata": {
    "colab": {
     "base_uri": "https://localhost:8080/",
     "height": 34
    },
    "colab_type": "code",
    "id": "Ut2UYFSlROoW",
    "outputId": "d132e624-ac9d-4c9c-c064-2060b8aebe7b"
   },
   "outputs": [
    {
     "data": {
      "text/plain": [
       "0.9635816853507998"
      ]
     },
     "execution_count": 339,
     "metadata": {
      "tags": []
     },
     "output_type": "execute_result"
    }
   ],
   "source": [
    "x_train,x_test,y_train,y_test=tt(train1,np.asarray(train['Money']),test_size = 0.3,stratify = np.asarray(train['Growth']),random_state = 1)\n",
    "modl=BernoulliNB().fit(x_train,y_train)\n",
    "acc = modl.predict(x_test)\n",
    "accuracy_score(acc,y_test)\n"
   ]
  },
  {
   "cell_type": "code",
   "execution_count": 0,
   "metadata": {
    "colab": {
     "base_uri": "https://localhost:8080/",
     "height": 34
    },
    "colab_type": "code",
    "id": "KY8iN2x0RUZI",
    "outputId": "04024ab7-0fd2-44ef-8090-4ab4fd2381c0"
   },
   "outputs": [
    {
     "data": {
      "text/plain": [
       "0.9852311374228492"
      ]
     },
     "execution_count": 340,
     "metadata": {
      "tags": []
     },
     "output_type": "execute_result"
    }
   ],
   "source": [
    "x_train,x_test,y_train,y_test=tt(train1,np.asarray(train['Fiscal']),test_size = 0.3,stratify = np.asarray(train['Growth']),random_state = 1)\n",
    "modl=BernoulliNB().fit(x_train,y_train)\n",
    "acc = modl.predict(x_test)\n",
    "accuracy_score(acc,y_test)"
   ]
  },
  {
   "cell_type": "markdown",
   "metadata": {
    "colab_type": "text",
    "id": "2Jej2gNPRolE"
   },
   "source": [
    "#Test dataset"
   ]
  },
  {
   "cell_type": "code",
   "execution_count": 0,
   "metadata": {
    "colab": {},
    "colab_type": "code",
    "id": "IOhSWH9QRsfB"
   },
   "outputs": [],
   "source": [
    "vect1 = CountVectorizer()\n",
    "vect1.fit(test['Sentence'])\n",
    "counts= vect.transform(test['Sentence'])\n",
    "tf1 = TfidfTransformer()\n",
    "test1 = tf1.fit_transform(counts)"
   ]
  },
  {
   "cell_type": "markdown",
   "metadata": {
    "colab_type": "text",
    "id": "mtbYak2jS4cU"
   },
   "source": [
    "**Growth Classification**"
   ]
  },
  {
   "cell_type": "code",
   "execution_count": 0,
   "metadata": {
    "colab": {},
    "colab_type": "code",
    "id": "hK_jYVjtSNlN"
   },
   "outputs": [],
   "source": [
    "modl=BernoulliNB().fit(train1,train['Growth'])\n",
    "y = modl.predict(test1)\n",
    "test['Growth'] = y"
   ]
  },
  {
   "cell_type": "markdown",
   "metadata": {
    "colab_type": "text",
    "id": "3kGFCj9ZTgLY"
   },
   "source": [
    "**Inflation Classification**"
   ]
  },
  {
   "cell_type": "code",
   "execution_count": 0,
   "metadata": {
    "colab": {},
    "colab_type": "code",
    "id": "3QR3_xoETYiy"
   },
   "outputs": [],
   "source": [
    "modl=BernoulliNB().fit(train1,train['Inflation'])\n",
    "y = modl.predict(test1)\n",
    "test['Inflation'] = y"
   ]
  },
  {
   "cell_type": "markdown",
   "metadata": {
    "colab_type": "text",
    "id": "PqufCP8UTysp"
   },
   "source": [
    "**Cad**"
   ]
  },
  {
   "cell_type": "code",
   "execution_count": 0,
   "metadata": {
    "colab": {},
    "colab_type": "code",
    "id": "nudr7yRjTvyQ"
   },
   "outputs": [],
   "source": [
    "modl=BernoulliNB().fit(train1,train['Cad'])\n",
    "y = modl.predict(test1)\n",
    "test['Cad'] = y"
   ]
  },
  {
   "cell_type": "markdown",
   "metadata": {
    "colab_type": "text",
    "id": "NqCucKKET75U"
   },
   "source": [
    "**Money**"
   ]
  },
  {
   "cell_type": "code",
   "execution_count": 0,
   "metadata": {
    "colab": {},
    "colab_type": "code",
    "id": "8BW4ucxfT7e3"
   },
   "outputs": [],
   "source": [
    "modl=BernoulliNB().fit(train1,train['Money'])\n",
    "y = modl.predict(test1)\n",
    "test['Money'] = y"
   ]
  },
  {
   "cell_type": "markdown",
   "metadata": {
    "colab_type": "text",
    "id": "oH6s4XURULSI"
   },
   "source": [
    "**Fiscal**"
   ]
  },
  {
   "cell_type": "code",
   "execution_count": 0,
   "metadata": {
    "colab": {},
    "colab_type": "code",
    "id": "c4BOX6lTUJGY"
   },
   "outputs": [],
   "source": [
    "modl=BernoulliNB().fit(train1,train['Fiscal'])\n",
    "y = modl.predict(test1)\n",
    "test['Fiscal'] = y"
   ]
  },
  {
   "cell_type": "markdown",
   "metadata": {
    "colab_type": "text",
    "id": "8r75FkRcUSMT"
   },
   "source": [
    "**Other**"
   ]
  },
  {
   "cell_type": "code",
   "execution_count": 0,
   "metadata": {
    "colab": {},
    "colab_type": "code",
    "id": "AN6vhxMdURh7"
   },
   "outputs": [],
   "source": [
    "modl=BernoulliNB().fit(train1,train['Other'])\n",
    "y = modl.predict(test1)\n",
    "test['Other'] = y"
   ]
  },
  {
   "cell_type": "code",
   "execution_count": 0,
   "metadata": {
    "colab": {
     "base_uri": "https://localhost:8080/",
     "height": 72
    },
    "colab_type": "code",
    "id": "l1AocVgMUZni",
    "outputId": "7c5c05fb-5553-4355-dd18-cdce9563c666"
   },
   "outputs": [
    {
     "name": "stderr",
     "output_type": "stream",
     "text": [
      "/usr/local/lib/python3.6/dist-packages/ipykernel_launcher.py:1: UserWarning: Boolean Series key will be reindexed to match DataFrame index.\n",
      "  \"\"\"Entry point for launching an IPython kernel.\n"
     ]
    }
   ],
   "source": [
    "anomoly = test[test['Growth']== 0][test['Inflation']==0][test['Cad']==0][test['Money']==0][test['Fiscal']==0][test['Other']==0]"
   ]
  },
  {
   "cell_type": "code",
   "execution_count": 0,
   "metadata": {
    "colab": {},
    "colab_type": "code",
    "id": "qneBqiuiUymS"
   },
   "outputs": [],
   "source": [
    "t = pd.concat([anomoly,test])"
   ]
  },
  {
   "cell_type": "code",
   "execution_count": 0,
   "metadata": {
    "colab": {},
    "colab_type": "code",
    "id": "L-OmwfQSrd-P"
   },
   "outputs": [],
   "source": [
    "test = t.drop_duplicates(keep=False)"
   ]
  },
  {
   "cell_type": "code",
   "execution_count": 0,
   "metadata": {
    "colab": {
     "base_uri": "https://localhost:8080/",
     "height": 320
    },
    "colab_type": "code",
    "id": "TnL3BE1pU5xA",
    "outputId": "2134ed92-b7a5-4368-8e2f-209010114ca4"
   },
   "outputs": [
    {
     "data": {
      "text/html": [
       "<div>\n",
       "<style scoped>\n",
       "    .dataframe tbody tr th:only-of-type {\n",
       "        vertical-align: middle;\n",
       "    }\n",
       "\n",
       "    .dataframe tbody tr th {\n",
       "        vertical-align: top;\n",
       "    }\n",
       "\n",
       "    .dataframe thead th {\n",
       "        text-align: right;\n",
       "    }\n",
       "</style>\n",
       "<table border=\"1\" class=\"dataframe\">\n",
       "  <thead>\n",
       "    <tr style=\"text-align: right;\">\n",
       "      <th></th>\n",
       "      <th>Unnamed: 0</th>\n",
       "      <th>Growth</th>\n",
       "      <th>Inflation</th>\n",
       "      <th>Cad</th>\n",
       "      <th>Money</th>\n",
       "      <th>Fiscal</th>\n",
       "      <th>Other</th>\n",
       "    </tr>\n",
       "  </thead>\n",
       "  <tbody>\n",
       "    <tr>\n",
       "      <th>count</th>\n",
       "      <td>179788.000000</td>\n",
       "      <td>179788.000000</td>\n",
       "      <td>179788.000000</td>\n",
       "      <td>179788.000000</td>\n",
       "      <td>179788.000000</td>\n",
       "      <td>179788.000000</td>\n",
       "      <td>179788.000000</td>\n",
       "    </tr>\n",
       "    <tr>\n",
       "      <th>mean</th>\n",
       "      <td>109290.296388</td>\n",
       "      <td>0.836074</td>\n",
       "      <td>0.100212</td>\n",
       "      <td>0.086813</td>\n",
       "      <td>0.049469</td>\n",
       "      <td>0.004555</td>\n",
       "      <td>0.017409</td>\n",
       "    </tr>\n",
       "    <tr>\n",
       "      <th>std</th>\n",
       "      <td>64015.937259</td>\n",
       "      <td>0.370210</td>\n",
       "      <td>0.300284</td>\n",
       "      <td>0.281562</td>\n",
       "      <td>0.216847</td>\n",
       "      <td>0.067340</td>\n",
       "      <td>0.130791</td>\n",
       "    </tr>\n",
       "    <tr>\n",
       "      <th>min</th>\n",
       "      <td>0.000000</td>\n",
       "      <td>0.000000</td>\n",
       "      <td>0.000000</td>\n",
       "      <td>0.000000</td>\n",
       "      <td>0.000000</td>\n",
       "      <td>0.000000</td>\n",
       "      <td>0.000000</td>\n",
       "    </tr>\n",
       "    <tr>\n",
       "      <th>25%</th>\n",
       "      <td>53842.750000</td>\n",
       "      <td>1.000000</td>\n",
       "      <td>0.000000</td>\n",
       "      <td>0.000000</td>\n",
       "      <td>0.000000</td>\n",
       "      <td>0.000000</td>\n",
       "      <td>0.000000</td>\n",
       "    </tr>\n",
       "    <tr>\n",
       "      <th>50%</th>\n",
       "      <td>107597.500000</td>\n",
       "      <td>1.000000</td>\n",
       "      <td>0.000000</td>\n",
       "      <td>0.000000</td>\n",
       "      <td>0.000000</td>\n",
       "      <td>0.000000</td>\n",
       "      <td>0.000000</td>\n",
       "    </tr>\n",
       "    <tr>\n",
       "      <th>75%</th>\n",
       "      <td>164891.250000</td>\n",
       "      <td>1.000000</td>\n",
       "      <td>0.000000</td>\n",
       "      <td>0.000000</td>\n",
       "      <td>0.000000</td>\n",
       "      <td>0.000000</td>\n",
       "      <td>0.000000</td>\n",
       "    </tr>\n",
       "    <tr>\n",
       "      <th>max</th>\n",
       "      <td>220852.000000</td>\n",
       "      <td>1.000000</td>\n",
       "      <td>1.000000</td>\n",
       "      <td>1.000000</td>\n",
       "      <td>1.000000</td>\n",
       "      <td>1.000000</td>\n",
       "      <td>1.000000</td>\n",
       "    </tr>\n",
       "  </tbody>\n",
       "</table>\n",
       "</div>"
      ],
      "text/plain": [
       "          Unnamed: 0         Growth  ...         Fiscal          Other\n",
       "count  179788.000000  179788.000000  ...  179788.000000  179788.000000\n",
       "mean   109290.296388       0.836074  ...       0.004555       0.017409\n",
       "std     64015.937259       0.370210  ...       0.067340       0.130791\n",
       "min         0.000000       0.000000  ...       0.000000       0.000000\n",
       "25%     53842.750000       1.000000  ...       0.000000       0.000000\n",
       "50%    107597.500000       1.000000  ...       0.000000       0.000000\n",
       "75%    164891.250000       1.000000  ...       0.000000       0.000000\n",
       "max    220852.000000       1.000000  ...       1.000000       1.000000\n",
       "\n",
       "[8 rows x 7 columns]"
      ]
     },
     "execution_count": 351,
     "metadata": {
      "tags": []
     },
     "output_type": "execute_result"
    }
   ],
   "source": [
    "test.describe()"
   ]
  },
  {
   "cell_type": "code",
   "execution_count": 0,
   "metadata": {
    "colab": {},
    "colab_type": "code",
    "id": "mXqQk1y3sB7U"
   },
   "outputs": [],
   "source": [
    "vect1 = CountVectorizer()\n",
    "vect1.fit(anomoly['Sentence'])\n",
    "counts= vect.transform(anomoly['Sentence'])\n",
    "tf1 = TfidfTransformer()\n",
    "anomoly1 = tf1.fit_transform(counts)"
   ]
  },
  {
   "cell_type": "code",
   "execution_count": 0,
   "metadata": {
    "colab": {
     "base_uri": "https://localhost:8080/",
     "height": 152
    },
    "colab_type": "code",
    "id": "JM3bkeUKrlx2",
    "outputId": "11b3e7a8-6777-4fa8-bd73-ebce7c454055"
   },
   "outputs": [
    {
     "ename": "SyntaxError",
     "evalue": "ignored",
     "output_type": "error",
     "traceback": [
      "\u001b[0;36m  File \u001b[0;32m\"<ipython-input-353-25eaa21c8070>\"\u001b[0;36m, line \u001b[0;32m1\u001b[0m\n\u001b[0;31m    modl=BernoulliNB().fit(train1,train['Growth'])Other = anomoly[anomoly['Growth']== 0][anomoly['Inflation']==0][anomoly['Cad']==0][anomoly['Money']==0][anomoly['Fiscal']==0][anomoly['Other']==0]\u001b[0m\n\u001b[0m                                                      ^\u001b[0m\n\u001b[0;31mSyntaxError\u001b[0m\u001b[0;31m:\u001b[0m invalid syntax\n"
     ]
    }
   ],
   "source": [
    "modl=BernoulliNB().fit(train1,train['Growth'])Other = anomoly[anomoly['Growth']== 0][anomoly['Inflation']==0][anomoly['Cad']==0][anomoly['Money']==0][anomoly['Fiscal']==0][anomoly['Other']==0]\n",
    "anomoly['Growth'] = modl.predict(anomoly1)"
   ]
  },
  {
   "cell_type": "code",
   "execution_count": 0,
   "metadata": {
    "colab": {},
    "colab_type": "code",
    "id": "zg5Kku-ybiFl"
   },
   "outputs": [],
   "source": []
  },
  {
   "cell_type": "code",
   "execution_count": 0,
   "metadata": {
    "colab": {},
    "colab_type": "code",
    "id": "LBsx-0sSbiWb"
   },
   "outputs": [],
   "source": []
  },
  {
   "cell_type": "code",
   "execution_count": 0,
   "metadata": {
    "colab": {},
    "colab_type": "code",
    "id": "7GLQp455U7iw"
   },
   "outputs": [],
   "source": [
    "modl=BernoulliNB().fit(train1,train['Inflation'])\n",
    "anomoly['Inflation'] = modl.predict(anomoly1)"
   ]
  },
  {
   "cell_type": "code",
   "execution_count": 0,
   "metadata": {
    "colab": {},
    "colab_type": "code",
    "id": "5lbdnL4oscTt"
   },
   "outputs": [],
   "source": [
    "modl=BernoulliNB().fit(train1,train['Cad'])\n",
    "anomoly['Cad'] = modl.predict(anomoly1)"
   ]
  },
  {
   "cell_type": "code",
   "execution_count": 0,
   "metadata": {
    "colab": {},
    "colab_type": "code",
    "id": "b3Oby8oQslD-"
   },
   "outputs": [],
   "source": [
    "modl=BernoulliNB().fit(train1,train['Money'])\n",
    "anomoly['Money'] = modl.predict(anomoly1)"
   ]
  },
  {
   "cell_type": "code",
   "execution_count": 0,
   "metadata": {
    "colab": {},
    "colab_type": "code",
    "id": "FH_FrUqGsrLy"
   },
   "outputs": [],
   "source": [
    "modl=BernoulliNB().fit(train1,train['Fiscal'])\n",
    "anomoly['Fiscal'] = modl.predict(anomoly1)"
   ]
  },
  {
   "cell_type": "code",
   "execution_count": 0,
   "metadata": {
    "colab": {},
    "colab_type": "code",
    "id": "V9CiSY1NsyN6"
   },
   "outputs": [],
   "source": [
    "modl=BernoulliNB().fit(train1,train['Other'])\n",
    "anomoly['Other'] = modl.predict(anomoly1)"
   ]
  },
  {
   "cell_type": "code",
   "execution_count": 0,
   "metadata": {
    "colab": {},
    "colab_type": "code",
    "id": "iVteyfxts6wr"
   },
   "outputs": [],
   "source": [
    "Other = anomoly[anomoly['Growth']== 0][anomoly['Inflation']==0][anomoly['Cad']==0][anomoly['Money']==0][anomoly['Fiscal']==0][anomoly['Other']==0]"
   ]
  },
  {
   "cell_type": "code",
   "execution_count": 0,
   "metadata": {
    "colab": {},
    "colab_type": "code",
    "id": "ZwXqiQqktQLM"
   },
   "outputs": [],
   "source": [
    "Other"
   ]
  },
  {
   "cell_type": "markdown",
   "metadata": {
    "colab_type": "text",
    "id": "8b_eslJV9i1g"
   },
   "source": [
    "#References"
   ]
  },
  {
   "cell_type": "code",
   "execution_count": 0,
   "metadata": {
    "colab": {},
    "colab_type": "code",
    "id": "lrUtj2ULA9zX"
   },
   "outputs": [],
   "source": [
    "class NeuralNet():\n",
    "\tdef __init__(self,input):\n",
    "\t\tnp.random.seed(1)\n",
    "\t\tself.weights = 2 * np.random.random(input) - 1\n",
    "\t\tprint(\"The weights are \",self.weights)\n",
    "\tdef sigmoid(self,a):\n",
    "\t\treturn 1/(1 + np.exp(-a))\t\n",
    "\n",
    "\tdef der_sigmoid(self,a):\n",
    "\t\treturn a * (1 - a)\t\n",
    "\n",
    "\tdef think(self,ip):\n",
    "\t\tip = ip.astype(float)\n",
    "\t\toutput = self.sigmoid(np.dot(ip,self.weights))\n",
    "\t\treturn output\n",
    "\n",
    "\tdef training(self,input_layer,T_outputs,iterations):\n",
    "\t\tfor i in range(iterations):\t\n",
    "\t\t\toutput = self.think(input_layer)\n",
    "\t\t\terror = T_outputs - output\n",
    "\t\t\tadjust = error*self.der_sigmoid(output)\n",
    "\t\t\tself.weights += np.dot(input_layer.T,adjust)"
   ]
  },
  {
   "cell_type": "code",
   "execution_count": 0,
   "metadata": {
    "colab": {},
    "colab_type": "code",
    "id": "VIwrN5jowUQz"
   },
   "outputs": [],
   "source": [
    "from sklearn.datasets import fetch_20newsgroups\n",
    "\n",
    "categories = ['alt.atheism', 'soc.religion.christian','comp.graphics', 'sci.med']\n",
    "news_train = fetch_20newsgroups(subset = 'train', categories= categories)\n",
    "news_test = fetch_20newsgroups(subset = 'test',categories= categories)\n",
    "\n",
    "from sklearn.pipeline import Pipeline\n",
    "from sklearn.feature_extraction.text import TfidfVectorizer\n",
    "from sklearn.naive_bayes import MultinomialNB\n",
    "\n",
    "text_clf = Pipeline([('vect', TfidfVectorizer()), \n",
    "                      ('clf', MultinomialNB()) ])\n",
    "\n",
    "# train the model\n",
    "text_clf.fit(news_train.data, news_train.target)\n",
    "# Predict the test cases\n",
    "predicted = text_clf.predict(news_test.data)\n",
    "\n",
    "from sklearn import metrics\n",
    "from sklearn.metrics import accuracy_score\n",
    "import numpy as np\n",
    "\n",
    "print('Accuracy achieved is ' + str(np.mean(predicted == news_test.target)))\n",
    "print(metrics.classification_report(news_test.target, predicted, target_names=news_test.target_names)),\n",
    "metrics.confusion_matrix(news_test.target, predicted)\n",
    "\n"
   ]
  },
  {
   "cell_type": "code",
   "execution_count": 0,
   "metadata": {
    "colab": {},
    "colab_type": "code",
    "id": "fV4ix15ww33-"
   },
   "outputs": [],
   "source": [
    "news_train.target"
   ]
  }
 ],
 "metadata": {
  "colab": {
   "machine_shape": "hm",
   "name": "NLP",
   "provenance": [],
   "toc_visible": true
  },
  "kernelspec": {
   "display_name": "Python 3",
   "language": "python",
   "name": "python3"
  },
  "language_info": {
   "codemirror_mode": {
    "name": "ipython",
    "version": 3
   },
   "file_extension": ".py",
   "mimetype": "text/x-python",
   "name": "python",
   "nbconvert_exporter": "python",
   "pygments_lexer": "ipython3",
   "version": "3.7.3"
  }
 },
 "nbformat": 4,
 "nbformat_minor": 1
}
